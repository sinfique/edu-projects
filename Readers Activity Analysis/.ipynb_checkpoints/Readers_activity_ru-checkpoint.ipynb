{
 "cells": [
  {
   "cell_type": "markdown",
   "id": "a9555948",
   "metadata": {},
   "source": [
    "- Автор: Чертова Наталия\n",
    "- Дата: 05.06.2025"
   ]
  },
  {
   "cell_type": "markdown",
   "id": "dab53db9",
   "metadata": {},
   "source": [
    "# Часть 1. Проверка гипотезы в Python и составление аналитической записки"
   ]
  },
  {
   "cell_type": "markdown",
   "id": "Z5_6nf-FrY7o",
   "metadata": {
    "id": "Z5_6nf-FrY7o"
   },
   "source": [
    "Мы предобработали данные в SQL, и теперь они готовы для проверки гипотезы в Python. \n",
    "Загрузим данные пользователей из Москвы и Санкт-Петербурга c суммой часов их активности из файла yandex_knigi_data.csv. \n",
    "\n",
    "Проверим наличие дубликатов в идентификаторах пользователей. Сравним размеры групп, их статистики и распределение.\n",
    "\n",
    "Проверим гипотезу: пользователи из Санкт-Петербурга проводят в среднем больше времени за чтением и прослушиванием книг в приложении, чем пользователи из Москвы. Докажем это статистически, используя одностороннюю проверку гипотезы с двумя выборками:\n",
    "\n",
    "Нулевая гипотеза $H_0: \\mu_{\\text{СПб}} \\leq \\mu_{\\text{Москва}}$ <br> Среднее время активности пользователей в Санкт-Петербурге не больше, чем в Москве.\n",
    "\n",
    "Альтернативная гипотеза $H_1: \\mu_{\\text{СПб}} > \\mu_{\\text{Москва}}$ <br> Среднее время активности пользователей в Санкт-Петербурге больше, и это различие статистически значимо.\n",
    "\n",
    "По результатам анализа данных подготовим аналитическую записку, включающую:\n",
    "- Выбранный тип t-теста и уровень статистической значимости.\n",
    "- Результат теста, или p-value.\n",
    "- Вывод на основе полученного p-value, то есть интерпретацию результатов.\n",
    "- Одну или две возможные причины, объясняющие полученные результаты."
   ]
  },
  {
   "cell_type": "markdown",
   "id": "4149134c",
   "metadata": {
    "id": "4149134c"
   },
   "source": [
    "## Цели и задачи проекта\n",
    "\n",
    "\n",
    "Целью проекта является анализ данных, полученных от сервиса Яндекс Книги и проверка гипотезы о том, что пользователи, которые приносят больший LTV, являются более лояльными, а значит, проводят в среднем больше времени за чтением и прослушиванием книг в приложении. \n",
    "\n",
    "В задачи проекта входит:\n",
    "- выгрузка и оценка предоставленных данных \n",
    "- проверка статистическими методами гипотезы о том, что пользователи, которые приносят больший LTV, являются более лояльными, а значит, проводят в среднем больше времени за чтением и прослушиванием книг в приложении\n",
    "- написание аналитической записки с результатами анализа"
   ]
  },
  {
   "cell_type": "markdown",
   "id": "4fecaf95",
   "metadata": {
    "id": "4fecaf95"
   },
   "source": [
    "## Содержимое проекта\n",
    "\n",
    "<font color='#777778'>Перечислите основные шаги проекта или напишите оглавление. Используйте описание проекта, чтобы зафиксировать основные шаги.</font>\n",
    "\n",
    "1) Выгрузка и предобработка данных в SQL.\n",
    "\n",
    "2) Загрузка данных для проверки гипотезы в Python. \n",
    "\n",
    "3) Проверка на наличие дубликатов в идентификаторах пользователей. \n",
    "\n",
    "4) Сравнение размеров групп, их статистики и распределения.\n",
    "\n",
    "5) Проведение статистического анализа и проверки гипотезы: пользователи из Санкт-Петербурга проводят в среднем больше времени за чтением и прослушиванием книг в приложении, чем пользователи из Москвы. \n",
    "\n",
    "6) Составление аналитической записки по результатам анализа данных.\n",
    "\n",
    "---"
   ]
  },
  {
   "cell_type": "markdown",
   "id": "6f7d21d6",
   "metadata": {
    "id": "6f7d21d6"
   },
   "source": [
    "## 1. Загрузка данных и знакомство с ними\n",
    "\n",
    "Загрузите данные пользователей из Москвы и Санкт-Петербурга c их активностью (суммой часов чтения и прослушивания)"
   ]
  },
  {
   "cell_type": "code",
   "execution_count": 1,
   "id": "52945a51",
   "metadata": {},
   "outputs": [],
   "source": [
    "# Импортируем библиотеки\n",
    "import pandas as pd\n",
    "import matplotlib.pyplot as plt\n",
    "from scipy.stats import ttest_ind\n",
    "import numpy as np\n",
    "from scipy.stats import f_oneway"
   ]
  },
  {
   "cell_type": "code",
   "execution_count": 2,
   "id": "f68a7419",
   "metadata": {
    "hide_input": false,
    "id": "f68a7419"
   },
   "outputs": [
    {
     "data": {
      "text/html": [
       "<div>\n",
       "<style scoped>\n",
       "    .dataframe tbody tr th:only-of-type {\n",
       "        vertical-align: middle;\n",
       "    }\n",
       "\n",
       "    .dataframe tbody tr th {\n",
       "        vertical-align: top;\n",
       "    }\n",
       "\n",
       "    .dataframe thead th {\n",
       "        text-align: right;\n",
       "    }\n",
       "</style>\n",
       "<table border=\"1\" class=\"dataframe\">\n",
       "  <thead>\n",
       "    <tr style=\"text-align: right;\">\n",
       "      <th></th>\n",
       "      <th>Unnamed: 0</th>\n",
       "      <th>city</th>\n",
       "      <th>puid</th>\n",
       "      <th>hours</th>\n",
       "    </tr>\n",
       "  </thead>\n",
       "  <tbody>\n",
       "    <tr>\n",
       "      <th>0</th>\n",
       "      <td>0</td>\n",
       "      <td>Москва</td>\n",
       "      <td>9668</td>\n",
       "      <td>26.167776</td>\n",
       "    </tr>\n",
       "    <tr>\n",
       "      <th>1</th>\n",
       "      <td>1</td>\n",
       "      <td>Москва</td>\n",
       "      <td>16598</td>\n",
       "      <td>82.111217</td>\n",
       "    </tr>\n",
       "    <tr>\n",
       "      <th>2</th>\n",
       "      <td>2</td>\n",
       "      <td>Москва</td>\n",
       "      <td>80401</td>\n",
       "      <td>4.656906</td>\n",
       "    </tr>\n",
       "    <tr>\n",
       "      <th>3</th>\n",
       "      <td>3</td>\n",
       "      <td>Москва</td>\n",
       "      <td>140205</td>\n",
       "      <td>1.840556</td>\n",
       "    </tr>\n",
       "    <tr>\n",
       "      <th>4</th>\n",
       "      <td>4</td>\n",
       "      <td>Москва</td>\n",
       "      <td>248755</td>\n",
       "      <td>151.326434</td>\n",
       "    </tr>\n",
       "  </tbody>\n",
       "</table>\n",
       "</div>"
      ],
      "text/plain": [
       "   Unnamed: 0    city    puid       hours\n",
       "0           0  Москва    9668   26.167776\n",
       "1           1  Москва   16598   82.111217\n",
       "2           2  Москва   80401    4.656906\n",
       "3           3  Москва  140205    1.840556\n",
       "4           4  Москва  248755  151.326434"
      ]
     },
     "execution_count": 2,
     "metadata": {},
     "output_type": "execute_result"
    }
   ],
   "source": [
    "# Выведем датафрейм с данными\n",
    "df = pd.read_csv('https://code.s3.yandex.net/datasets/yandex_knigi_data.csv')\n",
    "df.head(5)"
   ]
  },
  {
   "cell_type": "code",
   "execution_count": 3,
   "id": "11360ae3",
   "metadata": {},
   "outputs": [
    {
     "data": {
      "text/html": [
       "<div>\n",
       "<style scoped>\n",
       "    .dataframe tbody tr th:only-of-type {\n",
       "        vertical-align: middle;\n",
       "    }\n",
       "\n",
       "    .dataframe tbody tr th {\n",
       "        vertical-align: top;\n",
       "    }\n",
       "\n",
       "    .dataframe thead th {\n",
       "        text-align: right;\n",
       "    }\n",
       "</style>\n",
       "<table border=\"1\" class=\"dataframe\">\n",
       "  <thead>\n",
       "    <tr style=\"text-align: right;\">\n",
       "      <th></th>\n",
       "      <th>Unnamed: 0</th>\n",
       "      <th>city</th>\n",
       "      <th>puid</th>\n",
       "      <th>hours</th>\n",
       "    </tr>\n",
       "  </thead>\n",
       "  <tbody>\n",
       "    <tr>\n",
       "      <th>35</th>\n",
       "      <td>35</td>\n",
       "      <td>Москва</td>\n",
       "      <td>2637041</td>\n",
       "      <td>10.317371</td>\n",
       "    </tr>\n",
       "    <tr>\n",
       "      <th>6247</th>\n",
       "      <td>6247</td>\n",
       "      <td>Санкт-Петербург</td>\n",
       "      <td>2637041</td>\n",
       "      <td>3.883926</td>\n",
       "    </tr>\n",
       "    <tr>\n",
       "      <th>134</th>\n",
       "      <td>134</td>\n",
       "      <td>Москва</td>\n",
       "      <td>9979490</td>\n",
       "      <td>32.415573</td>\n",
       "    </tr>\n",
       "    <tr>\n",
       "      <th>6274</th>\n",
       "      <td>6274</td>\n",
       "      <td>Санкт-Петербург</td>\n",
       "      <td>9979490</td>\n",
       "      <td>1.302997</td>\n",
       "    </tr>\n",
       "    <tr>\n",
       "      <th>145</th>\n",
       "      <td>145</td>\n",
       "      <td>Москва</td>\n",
       "      <td>10597984</td>\n",
       "      <td>42.931506</td>\n",
       "    </tr>\n",
       "    <tr>\n",
       "      <th>6279</th>\n",
       "      <td>6279</td>\n",
       "      <td>Санкт-Петербург</td>\n",
       "      <td>10597984</td>\n",
       "      <td>9.041320</td>\n",
       "    </tr>\n",
       "    <tr>\n",
       "      <th>150</th>\n",
       "      <td>150</td>\n",
       "      <td>Москва</td>\n",
       "      <td>10815097</td>\n",
       "      <td>9.086655</td>\n",
       "    </tr>\n",
       "    <tr>\n",
       "      <th>6283</th>\n",
       "      <td>6283</td>\n",
       "      <td>Санкт-Петербург</td>\n",
       "      <td>10815097</td>\n",
       "      <td>0.323291</td>\n",
       "    </tr>\n",
       "    <tr>\n",
       "      <th>187</th>\n",
       "      <td>187</td>\n",
       "      <td>Москва</td>\n",
       "      <td>13626259</td>\n",
       "      <td>21.104167</td>\n",
       "    </tr>\n",
       "    <tr>\n",
       "      <th>6300</th>\n",
       "      <td>6300</td>\n",
       "      <td>Санкт-Петербург</td>\n",
       "      <td>13626259</td>\n",
       "      <td>1.648434</td>\n",
       "    </tr>\n",
       "  </tbody>\n",
       "</table>\n",
       "</div>"
      ],
      "text/plain": [
       "      Unnamed: 0             city      puid      hours\n",
       "35            35           Москва   2637041  10.317371\n",
       "6247        6247  Санкт-Петербург   2637041   3.883926\n",
       "134          134           Москва   9979490  32.415573\n",
       "6274        6274  Санкт-Петербург   9979490   1.302997\n",
       "145          145           Москва  10597984  42.931506\n",
       "6279        6279  Санкт-Петербург  10597984   9.041320\n",
       "150          150           Москва  10815097   9.086655\n",
       "6283        6283  Санкт-Петербург  10815097   0.323291\n",
       "187          187           Москва  13626259  21.104167\n",
       "6300        6300  Санкт-Петербург  13626259   1.648434"
      ]
     },
     "metadata": {},
     "output_type": "display_data"
    },
    {
     "name": "stdout",
     "output_type": "stream",
     "text": [
      "Количество дубликатов по столбцу 'puid': 488\n"
     ]
    }
   ],
   "source": [
    "diplicates = df[df.duplicated(subset=['puid'], keep=False)].sort_values(by='puid')\n",
    "display(diplicates.head(10))\n",
    "print(f\"Количество дубликатов по столбцу 'puid': {diplicates.shape[0]}\")"
   ]
  },
  {
   "cell_type": "markdown",
   "id": "cdd79381",
   "metadata": {},
   "source": [
    "Таким образом, в данных содержится 488 строк, содержащих дубликаты пользователей, преимущественно входящих в обе группы - и Москва и Санкт-Петербург. \n",
    "\n",
    "Для обеспечения независимости данных удалим этих пользователей из обеих групп, поскольку оставить их в какой-либо группе было бы некорректно с точки зрения независимости выборок."
   ]
  },
  {
   "cell_type": "code",
   "execution_count": 4,
   "id": "005e86b7",
   "metadata": {},
   "outputs": [
    {
     "name": "stdout",
     "output_type": "stream",
     "text": [
      "Количество строк до удаления: 8784\n",
      "Количество строк после удаления: 8296\n"
     ]
    }
   ],
   "source": [
    "df_original = df \n",
    "print(f\"Количество строк до удаления: {df_original.shape[0]}\")\n",
    "df = df.drop_duplicates(subset=['puid'], keep=False)\n",
    "print(f\"Количество строк после удаления: {df.shape[0]}\")"
   ]
  },
  {
   "cell_type": "markdown",
   "id": "84a48286",
   "metadata": {},
   "source": [
    "---\n"
   ]
  },
  {
   "cell_type": "code",
   "execution_count": 5,
   "id": "b5c755de",
   "metadata": {},
   "outputs": [
    {
     "data": {
      "text/plain": [
       "city\n",
       "Москва             5990\n",
       "Санкт-Петербург    2306\n",
       "Name: puid, dtype: int64"
      ]
     },
     "execution_count": 5,
     "metadata": {},
     "output_type": "execute_result"
    }
   ],
   "source": [
    "# Сравним размеры групп (пользователей из разных городов)\n",
    "group_sizes = df.groupby('city')['puid'].nunique().sort_values(ascending=False)\n",
    "\n",
    "group_sizes"
   ]
  },
  {
   "cell_type": "code",
   "execution_count": 6,
   "id": "5ecb4be4",
   "metadata": {},
   "outputs": [
    {
     "data": {
      "image/png": "[encoded data removed]",
      "text/plain": [
       "<Figure size 720x432 with 1 Axes>"
      ]
     },
     "metadata": {
      "needs_background": "light"
     },
     "output_type": "display_data"
    }
   ],
   "source": [
    "import matplotlib.pyplot as plt\n",
    "import seaborn as sns\n",
    "\n",
    "# Визуализация размеров групп\n",
    "plt.figure(figsize=(10, 6))\n",
    "sns.barplot(x=group_sizes.index, y=group_sizes.values)\n",
    "plt.title('Количество уникальных пользователей по городам')\n",
    "plt.xlabel('Город')\n",
    "plt.ylabel('Количество пользователей')\n",
    "plt.show()"
   ]
  },
  {
   "cell_type": "markdown",
   "id": "9a9e2b24",
   "metadata": {},
   "source": [
    "В группы пользователей из Москвы в 2.5 раза больше пользователей, чем в группе пользователей из Санкт-Петербурга."
   ]
  },
  {
   "cell_type": "code",
   "execution_count": 7,
   "id": "72cecec6",
   "metadata": {},
   "outputs": [
    {
     "data": {
      "text/html": [
       "<div>\n",
       "<style scoped>\n",
       "    .dataframe tbody tr th:only-of-type {\n",
       "        vertical-align: middle;\n",
       "    }\n",
       "\n",
       "    .dataframe tbody tr th {\n",
       "        vertical-align: top;\n",
       "    }\n",
       "\n",
       "    .dataframe thead th {\n",
       "        text-align: right;\n",
       "    }\n",
       "</style>\n",
       "<table border=\"1\" class=\"dataframe\">\n",
       "  <thead>\n",
       "    <tr style=\"text-align: right;\">\n",
       "      <th></th>\n",
       "      <th>count</th>\n",
       "      <th>mean</th>\n",
       "      <th>std</th>\n",
       "      <th>min</th>\n",
       "      <th>25%</th>\n",
       "      <th>50%</th>\n",
       "      <th>75%</th>\n",
       "      <th>max</th>\n",
       "    </tr>\n",
       "    <tr>\n",
       "      <th>city</th>\n",
       "      <th></th>\n",
       "      <th></th>\n",
       "      <th></th>\n",
       "      <th></th>\n",
       "      <th></th>\n",
       "      <th></th>\n",
       "      <th></th>\n",
       "      <th></th>\n",
       "    </tr>\n",
       "  </thead>\n",
       "  <tbody>\n",
       "    <tr>\n",
       "      <th>Москва</th>\n",
       "      <td>5990.0</td>\n",
       "      <td>10.848192</td>\n",
       "      <td>36.925622</td>\n",
       "      <td>0.000022</td>\n",
       "      <td>0.057042</td>\n",
       "      <td>0.888232</td>\n",
       "      <td>5.933439</td>\n",
       "      <td>857.209373</td>\n",
       "    </tr>\n",
       "    <tr>\n",
       "      <th>Санкт-Петербург</th>\n",
       "      <td>2306.0</td>\n",
       "      <td>11.264433</td>\n",
       "      <td>39.831755</td>\n",
       "      <td>0.000025</td>\n",
       "      <td>0.060173</td>\n",
       "      <td>0.875355</td>\n",
       "      <td>6.138424</td>\n",
       "      <td>978.764775</td>\n",
       "    </tr>\n",
       "  </tbody>\n",
       "</table>\n",
       "</div>"
      ],
      "text/plain": [
       "                  count       mean        std       min       25%       50%  \\\n",
       "city                                                                          \n",
       "Москва           5990.0  10.848192  36.925622  0.000022  0.057042  0.888232   \n",
       "Санкт-Петербург  2306.0  11.264433  39.831755  0.000025  0.060173  0.875355   \n",
       "\n",
       "                      75%         max  \n",
       "city                                   \n",
       "Москва           5.933439  857.209373  \n",
       "Санкт-Петербург  6.138424  978.764775  "
      ]
     },
     "execution_count": 7,
     "metadata": {},
     "output_type": "execute_result"
    }
   ],
   "source": [
    "# Статистика часов прослушивания по группам\n",
    "group_stats = df.groupby('city')['hours'].describe()\n",
    "\n",
    "group_stats"
   ]
  },
  {
   "cell_type": "markdown",
   "id": "5cdd37ed",
   "metadata": {},
   "source": [
    "Статистика по группам показывает достаточно сходные данные: \n",
    "- Среднее значение часов прослушивания составляет 11 - (10.8 часов для пользователей из Москвы и 11.3 для пользователей из Санкт-Петербурга;\n",
    "- Стендартное отклонение также достаточно близко - 36.9 для Москвы и 39.8 для Санкт-Петербурга."
   ]
  },
  {
   "cell_type": "code",
   "execution_count": 8,
   "id": "4fbc5e36",
   "metadata": {},
   "outputs": [
    {
     "data": {
      "image/png": "[encoded data removed]",
      "text/plain": [
       "<Figure size 864x504 with 1 Axes>"
      ]
     },
     "metadata": {
      "needs_background": "light"
     },
     "output_type": "display_data"
    }
   ],
   "source": [
    "# Распределение часов прослушивания\n",
    "plt.figure(figsize=(12, 7))\n",
    "sns.boxplot(x='city', y='hours', data=df)\n",
    "plt.title('Распределение часов прослушивания по городам')\n",
    "plt.xlabel('Город')\n",
    "plt.ylabel('Часы прослушивания')\n",
    "plt.show()"
   ]
  },
  {
   "cell_type": "markdown",
   "id": "3026694c",
   "metadata": {},
   "source": [
    "На графике наблюдаются сильные выбросы, отобразим только основную часть данных."
   ]
  },
  {
   "cell_type": "code",
   "execution_count": 9,
   "id": "4b1c398b",
   "metadata": {},
   "outputs": [
    {
     "data": {
      "image/png": "[encoded data removed]",
      "text/plain": [
       "<Figure size 864x504 with 1 Axes>"
      ]
     },
     "metadata": {
      "needs_background": "light"
     },
     "output_type": "display_data"
    }
   ],
   "source": [
    "plt.figure(figsize=(12, 7))\n",
    "sns.boxplot(x='city', y='hours', data=df)\n",
    "plt.title('Распределение часов прослушивания по городам')\n",
    "plt.xlabel('Город')\n",
    "plt.ylabel('Часы прослушивания')\n",
    "plt.ylim(0, 20)\n",
    "plt.show()"
   ]
  },
  {
   "cell_type": "markdown",
   "id": "c5ec3c35",
   "metadata": {},
   "source": [
    "<b> ВЫВОД: </b>\n",
    "\n",
    "Разница в количестве участников в группах достаточно заметна и может повлиять на исследование, поскольку для критерия Т-Стьюдента требуется гомогенность дисперсий между группами. \n",
    "Для этого далее будет проведена оценки равенства дисперсий в группах.\n",
    "\n",
    "Большое стандартное отклонение и наличие существенных выбросов может искажать среднее значение для всей группы, что затрудняет обнаружение статистически значимых различий, даже если они существуют для большинства пользователей.\n",
    "\n",
    "Можно было бы исключить выбросы из анализа, но в данном случае кажется, что это не лучшая стратегия, поскольку мы исследуем лояльность пользователей, и каждое полученное значение, в том числе и сильно отклоняющееся от среднего, может говорить о важных различиях в поведении в группах."
   ]
  },
  {
   "cell_type": "markdown",
   "id": "956e82e2",
   "metadata": {
    "id": "956e82e2"
   },
   "source": [
    "## 2. Проверка гипотезы в Python\n",
    "\n",
    "Гипотеза звучит так: пользователи из Санкт-Петербурга проводят в среднем больше времени за чтением и прослушиванием книг в приложении, чем пользователи из Москвы. Попробуйте статистически это доказать, используя одностороннюю проверку гипотезы с двумя выборками:\n",
    "\n",
    "- Нулевая гипотеза H₀: Средняя активность пользователей в часах в двух группах (Москва и Санкт-Петербург) не различается.\n",
    "\n",
    "- Альтернативная гипотеза H₁: Средняя активность пользователей в Санкт-Петербурге больше, и это различие статистически значимо."
   ]
  },
  {
   "cell_type": "code",
   "execution_count": 11,
   "id": "763d413c",
   "metadata": {},
   "outputs": [
    {
     "data": {
      "text/plain": [
       "0"
      ]
     },
     "execution_count": 11,
     "metadata": {},
     "output_type": "execute_result"
    }
   ],
   "source": [
    "# Оценим независимость групп\n",
    "A = df[df['city'] == 'Москва']['puid']\n",
    "B = df[df['city'] == 'Санкт-Петербург']['puid']\n",
    "intersection = list(set(A) & set(B))\n",
    "len(intersection)"
   ]
  },
  {
   "cell_type": "code",
   "execution_count": 12,
   "id": "cda7e144",
   "metadata": {},
   "outputs": [
    {
     "name": "stdout",
     "output_type": "stream",
     "text": [
      "city\n",
      "Москва             5990\n",
      "Санкт-Петербург    2306\n",
      "dtype: int64\n",
      "city\n",
      "Москва             5990\n",
      "Санкт-Петербург    2306\n",
      "dtype: int64\n"
     ]
    }
   ],
   "source": [
    "# Группы не являются независимыми, удалим повторяющихся пользователей из обеих групп\n",
    "df_cleaned = df[~df['puid'].isin(intersection)]\n",
    "\n",
    "# Рассчитаем размеры выборок до и после удаления \n",
    "city_counts = df.groupby('city').size()\n",
    "city_counts_cleaned = df_cleaned.groupby('city').size()\n",
    "\n",
    "print(city_counts)\n",
    "print(city_counts_cleaned)"
   ]
  },
  {
   "cell_type": "code",
   "execution_count": 13,
   "id": "30b1c8ec",
   "metadata": {},
   "outputs": [
    {
     "name": "stdout",
     "output_type": "stream",
     "text": [
      "\n",
      "Дисперсия активности (в часах) по городам:\n",
      "city\n",
      "Москва             1363.501557\n",
      "Санкт-Петербург    1586.568674\n",
      "Name: hours, dtype: float64\n"
     ]
    }
   ],
   "source": [
    "df = df_cleaned\n",
    "\n",
    "# Рассчитаем дисперсию по группам\n",
    "variance_by_city = df.groupby('city')['hours'].var()\n",
    "\n",
    "print(\"\\nДисперсия активности (в часах) по городам:\")\n",
    "print(variance_by_city)"
   ]
  },
  {
   "cell_type": "code",
   "execution_count": 14,
   "id": "3237423f",
   "metadata": {},
   "outputs": [
    {
     "name": "stdout",
     "output_type": "stream",
     "text": [
      "p-value Ф-теста  = 0.65\n",
      "Нулевая гипотеза находит подтверждение! Дисперсии в группах A и B равны.\n",
      "Необходимо использовать тест Стьюдента.\n"
     ]
    }
   ],
   "source": [
    "# Проверим равенство выборочных дисперсий\n",
    "\n",
    "# Целевая метрика\n",
    "metric_a = df[df.city=='Москва']['hours'] ## выборка целевой метрики для группы A\n",
    "metric_b = df[df.city=='Санкт-Петербург']['hours'] ## выборка целевой метрики для группы B\n",
    "\n",
    "# Выберем стандартный уровень значимости\n",
    "alpha = 0.05 \n",
    "\n",
    "# Проведем Ф-тест Фишера для определения равенства дисперсий\n",
    "stat_f_test, p_value_stat_f_test = f_oneway(metric_a, metric_b)\n",
    "if p_value_stat_f_test>alpha:\n",
    "    print(f'p-value Ф-теста  = {round(p_value_stat_f_test, 2)}')\n",
    "    print('Нулевая гипотеза находит подтверждение! Дисперсии в группах A и B равны.')\n",
    "    print('Необходимо использовать тест Стьюдента.')\n",
    "else:\n",
    "    print(f'p-value теста Уэлча = {round(p_value_stat_f_test, 2)}')\n",
    "    print('Нулевая гипотеза не находит подтверждения! Дисперсии средние в группах A и B не равны.')\n",
    "    print('Необходимо использовать тест Уэлча.')"
   ]
  },
  {
   "cell_type": "code",
   "execution_count": null,
   "id": "078c4712",
   "metadata": {},
   "outputs": [],
   "source": [
    "# По условиям задания:\n",
    "# Нулевая гипотеза 𝐻0:𝜇СПб≤𝜇Москва\n",
    "# Альтернативная гипотеза 𝐻1:𝜇СПб>𝜇Москва\n",
    "\n",
    "# Проведем Т-тест для определения оценки разницы выборочных средних\n",
    "stat_ttest, p_value_ttest = ttest_ind(\n",
    "    metric_a, \n",
    "    metric_b, \n",
    "    alternative='less' \n",
    ")\n",
    "if p_value_ttest>alpha:\n",
    "    print(f'p-value теста Стьюдента = {round(p_value_ttest, 2)}')\n",
    "    print('Нулевая гипотеза находит подтверждение! Выборочные средние в группах A и B равны.')\n",
    "    print('Интерпретация: Средняя активность пользователей в часах в двух группах (Москва и Санкт-Петербург) не различается.')\n",
    "else:\n",
    "    print(f'p-value теста Стьюдента = {round(p_value_ttest, 2)}')\n",
    "    print('Нулевая гипотеза не находит подтверждения! Выборочные средние в группах A и B не равны, и в группе B больше.')\n",
    "    print('Интерпретация: Средняя активность пользователей в Санкт-Петербурге больше, и это различие статистически значимо.')"
   ]
  },
  {
   "cell_type": "markdown",
   "id": "6953e84c",
   "metadata": {
    "id": "6953e84c"
   },
   "source": [
    "## 3. Аналитическая записка\n",
    "По результатам анализа данных подготовьте аналитическую записку, в которой опишете:\n",
    "\n",
    "- Выбранный тип t-теста и уровень статистической значимости.\n",
    "\n",
    "- Результат теста, или p-value.\n",
    "\n",
    "- Вывод на основе полученного p-value, то есть интерпретацию результатов.\n",
    "\n",
    "- Одну или две возможные причины, объясняющие полученные результаты.\n",
    "\n"
   ]
  },
  {
   "cell_type": "markdown",
   "id": "c501d8d0",
   "metadata": {},
   "source": [
    "Для проведения анализа был выбран t-тест Стьюдента, поскольку он является оптимальным для условий задачи - две выборки, для которых выполняются требуемые условия: \n",
    "- нормальность выборочного среднего - за счет достаточного количества данных; \n",
    "- независимость наблюдений - благодаря исключению пересекающихся пользователей; \n",
    "- равенство выборочных дисперсий - подтверждено Ф-тестом Фишера. \n",
    "\n",
    "Принят уровень значимости для проверки гипотезы на уровне 5% - стандартое значение для такого рода тестов.\n",
    "Полученный p-value составил 0.33. Данный показатель говорит о том, что у нас недостаточно оснований, чтобы сказать, что средняя активность пользователей в часах в двух группах (Москва и Санкт-Петербург) статистически значимо отличается.\n",
    "\n",
    "Полученный результат объясняется тем, что: \n",
    "- разницы между группами действительно нет.\n",
    "Тогда пользователи из Санкт-Петербурга проводят в среднем столько же времени за чтением и прослушиванием книг в приложении, как и пользователи из Москвы. А значит, раз нет разницы в активности между городами, и следовательно  на LTV влияет какой-то другой фактор.\n",
    "- разница между группами есть, но мы не можем ее определить в силу недостаточной мощности теста (ошибка 2 рода)."
   ]
  },
  {
   "cell_type": "markdown",
   "id": "hc1d6jVISegz",
   "metadata": {
    "id": "hc1d6jVISegz"
   },
   "source": [
    "----"
   ]
  }
 ],
 "metadata": {
  "ExecuteTimeLog": [
   {
    "duration": 1491,
    "start_time": "2025-06-03T20:15:19.547Z"
   },
   {
    "duration": 10,
    "start_time": "2025-06-03T20:34:56.399Z"
   },
   {
    "duration": 6,
    "start_time": "2025-06-03T20:43:35.598Z"
   },
   {
    "duration": 9,
    "start_time": "2025-06-03T20:47:06.149Z"
   },
   {
    "duration": 12,
    "start_time": "2025-06-03T20:47:14.253Z"
   },
   {
    "duration": 8,
    "start_time": "2025-06-03T20:51:54.291Z"
   },
   {
    "duration": 11,
    "start_time": "2025-06-03T20:54:53.628Z"
   },
   {
    "duration": 14,
    "start_time": "2025-06-03T20:55:03.258Z"
   },
   {
    "duration": 11,
    "start_time": "2025-06-03T20:56:37.561Z"
   },
   {
    "duration": 6,
    "start_time": "2025-06-03T20:58:09.604Z"
   },
   {
    "duration": 10,
    "start_time": "2025-06-03T20:59:48.910Z"
   },
   {
    "duration": 2,
    "start_time": "2025-06-03T21:00:44.370Z"
   },
   {
    "duration": 9,
    "start_time": "2025-06-03T21:01:20.192Z"
   },
   {
    "duration": 10,
    "start_time": "2025-06-03T21:01:37.692Z"
   },
   {
    "duration": 10,
    "start_time": "2025-06-03T21:03:01.792Z"
   },
   {
    "duration": 9,
    "start_time": "2025-06-03T21:16:12.326Z"
   },
   {
    "duration": 14,
    "start_time": "2025-06-03T21:20:36.515Z"
   },
   {
    "duration": 12,
    "start_time": "2025-06-03T21:21:55.326Z"
   },
   {
    "duration": 109,
    "start_time": "2025-06-03T21:22:34.036Z"
   },
   {
    "duration": 9,
    "start_time": "2025-06-03T21:23:35.872Z"
   },
   {
    "duration": 74,
    "start_time": "2025-06-03T21:32:46.247Z"
   },
   {
    "duration": 86,
    "start_time": "2025-06-03T21:33:00.444Z"
   },
   {
    "duration": 9,
    "start_time": "2025-06-03T21:33:49.563Z"
   },
   {
    "duration": 9,
    "start_time": "2025-06-03T21:33:56.320Z"
   },
   {
    "duration": 9,
    "start_time": "2025-06-03T21:34:15.327Z"
   },
   {
    "duration": 9,
    "start_time": "2025-06-03T21:36:16.260Z"
   },
   {
    "duration": 6,
    "start_time": "2025-06-03T21:37:38.627Z"
   },
   {
    "duration": 9,
    "start_time": "2025-06-03T21:37:45.689Z"
   },
   {
    "duration": 7,
    "start_time": "2025-06-03T21:37:47.507Z"
   },
   {
    "duration": 7,
    "start_time": "2025-06-03T21:38:28.018Z"
   },
   {
    "duration": 6,
    "start_time": "2025-06-03T21:38:35.033Z"
   },
   {
    "duration": 6,
    "start_time": "2025-06-03T21:38:39.474Z"
   },
   {
    "duration": 7,
    "start_time": "2025-06-03T21:39:01.974Z"
   },
   {
    "duration": 9,
    "start_time": "2025-06-03T21:39:03.301Z"
   },
   {
    "duration": 10,
    "start_time": "2025-06-03T21:39:08.344Z"
   },
   {
    "duration": 10,
    "start_time": "2025-06-04T00:39:31.540Z"
   },
   {
    "duration": 7,
    "start_time": "2025-06-04T00:40:10.765Z"
   },
   {
    "duration": 11,
    "start_time": "2025-06-04T00:40:25.148Z"
   },
   {
    "duration": 16,
    "start_time": "2025-06-04T01:02:14.257Z"
   },
   {
    "duration": 1733,
    "start_time": "2025-06-04T01:02:19.021Z"
   },
   {
    "duration": 13,
    "start_time": "2025-06-04T01:02:23.003Z"
   },
   {
    "duration": 31,
    "start_time": "2025-06-04T01:02:37.032Z"
   },
   {
    "duration": 122,
    "start_time": "2025-06-04T01:03:11.476Z"
   },
   {
    "duration": 8,
    "start_time": "2025-06-04T16:08:06.168Z"
   },
   {
    "duration": 8,
    "start_time": "2025-06-04T16:08:32.813Z"
   },
   {
    "duration": 1316,
    "start_time": "2025-06-04T16:12:00.679Z"
   },
   {
    "duration": 12,
    "start_time": "2025-06-04T16:12:26.444Z"
   },
   {
    "duration": 4,
    "start_time": "2025-06-04T16:12:40.527Z"
   },
   {
    "duration": 13,
    "start_time": "2025-06-04T16:14:22.624Z"
   },
   {
    "duration": 14,
    "start_time": "2025-06-04T16:14:58.104Z"
   },
   {
    "duration": 4,
    "start_time": "2025-06-04T16:15:05.137Z"
   },
   {
    "duration": 14,
    "start_time": "2025-06-04T16:15:10.424Z"
   },
   {
    "duration": 339,
    "start_time": "2025-06-04T16:27:22.846Z"
   },
   {
    "duration": 340,
    "start_time": "2025-06-04T16:27:53.646Z"
   },
   {
    "duration": 347,
    "start_time": "2025-06-04T16:28:06.094Z"
   },
   {
    "duration": 355,
    "start_time": "2025-06-04T16:30:02.544Z"
   },
   {
    "duration": 687,
    "start_time": "2025-06-04T16:35:35.179Z"
   },
   {
    "duration": 365,
    "start_time": "2025-06-04T16:37:57.761Z"
   },
   {
    "duration": 399,
    "start_time": "2025-06-04T16:38:12.013Z"
   },
   {
    "duration": 360,
    "start_time": "2025-06-04T16:38:20.848Z"
   },
   {
    "duration": 367,
    "start_time": "2025-06-04T16:38:29.174Z"
   },
   {
    "duration": 9,
    "start_time": "2025-06-04T16:52:30.022Z"
   },
   {
    "duration": 9,
    "start_time": "2025-06-04T16:54:00.267Z"
   },
   {
    "duration": 316,
    "start_time": "2025-06-04T17:09:38.327Z"
   },
   {
    "duration": 13,
    "start_time": "2025-06-04T17:11:25.095Z"
   },
   {
    "duration": 4,
    "start_time": "2025-06-04T17:15:12.818Z"
   },
   {
    "duration": 12,
    "start_time": "2025-06-04T17:15:19.254Z"
   },
   {
    "duration": 10,
    "start_time": "2025-06-04T17:15:26.998Z"
   },
   {
    "duration": 4,
    "start_time": "2025-06-04T17:22:55.735Z"
   },
   {
    "duration": 11,
    "start_time": "2025-06-04T17:51:35.752Z"
   },
   {
    "duration": 13,
    "start_time": "2025-06-04T17:53:04.582Z"
   },
   {
    "duration": 104,
    "start_time": "2025-06-04T18:00:36.302Z"
   },
   {
    "duration": 15,
    "start_time": "2025-06-04T18:00:50.886Z"
   },
   {
    "duration": 13,
    "start_time": "2025-06-04T18:01:25.198Z"
   },
   {
    "duration": 5,
    "start_time": "2025-06-04T18:01:34.404Z"
   },
   {
    "duration": 12,
    "start_time": "2025-06-04T18:01:40.544Z"
   },
   {
    "duration": 92,
    "start_time": "2025-06-04T18:08:06.987Z"
   },
   {
    "duration": 3,
    "start_time": "2025-06-04T18:13:29.350Z"
   },
   {
    "duration": 8,
    "start_time": "2025-06-04T18:18:16.594Z"
   },
   {
    "duration": 89,
    "start_time": "2025-06-04T18:18:27.086Z"
   },
   {
    "duration": 9,
    "start_time": "2025-06-04T18:18:32.662Z"
   },
   {
    "duration": 9,
    "start_time": "2025-06-04T18:19:51.394Z"
   },
   {
    "duration": 58,
    "start_time": "2025-06-04T18:29:28.098Z"
   },
   {
    "duration": 65,
    "start_time": "2025-06-04T18:29:34.070Z"
   },
   {
    "duration": 80,
    "start_time": "2025-06-04T18:33:48.333Z"
   },
   {
    "duration": 91,
    "start_time": "2025-06-04T18:36:56.796Z"
   },
   {
    "duration": 231,
    "start_time": "2025-06-04T18:37:19.059Z"
   },
   {
    "duration": 235,
    "start_time": "2025-06-04T18:37:25.513Z"
   },
   {
    "duration": 257,
    "start_time": "2025-06-04T18:41:32.299Z"
   },
   {
    "duration": 17,
    "start_time": "2025-06-04T18:50:49.808Z"
   },
   {
    "duration": 16,
    "start_time": "2025-06-04T18:51:15.947Z"
   },
   {
    "duration": 15,
    "start_time": "2025-06-04T18:52:01.985Z"
   },
   {
    "duration": 15,
    "start_time": "2025-06-04T18:52:40.560Z"
   },
   {
    "duration": 16,
    "start_time": "2025-06-04T19:05:25.938Z"
   },
   {
    "duration": 20,
    "start_time": "2025-06-04T19:05:28.978Z"
   },
   {
    "duration": 321,
    "start_time": "2025-06-04T19:20:16.967Z"
   },
   {
    "duration": 85,
    "start_time": "2025-06-04T19:28:52.709Z"
   },
   {
    "duration": 1838,
    "start_time": "2025-06-04T19:36:57.903Z"
   },
   {
    "duration": 18,
    "start_time": "2025-06-04T19:37:34.655Z"
   },
   {
    "duration": 3,
    "start_time": "2025-06-04T19:38:10.659Z"
   },
   {
    "duration": 119,
    "start_time": "2025-06-04T19:38:10.663Z"
   },
   {
    "duration": 1257,
    "start_time": "2025-06-04T19:38:10.784Z"
   },
   {
    "duration": 36,
    "start_time": "2025-06-04T19:38:12.043Z"
   },
   {
    "duration": 150,
    "start_time": "2025-06-04T19:38:12.081Z"
   },
   {
    "duration": 33,
    "start_time": "2025-06-04T19:38:12.233Z"
   },
   {
    "duration": 6,
    "start_time": "2025-06-04T19:38:12.268Z"
   },
   {
    "duration": 9,
    "start_time": "2025-06-04T19:38:12.276Z"
   },
   {
    "duration": 17,
    "start_time": "2025-06-04T19:38:12.287Z"
   },
   {
    "duration": 1610,
    "start_time": "2025-06-04T19:38:12.305Z"
   },
   {
    "duration": 19,
    "start_time": "2025-06-04T19:38:13.916Z"
   },
   {
    "duration": 89,
    "start_time": "2025-06-04T19:38:13.937Z"
   },
   {
    "duration": 126,
    "start_time": "2025-06-04T19:38:14.029Z"
   },
   {
    "duration": 712,
    "start_time": "2025-06-04T19:38:14.161Z"
   },
   {
    "duration": 395,
    "start_time": "2025-06-04T19:38:14.875Z"
   },
   {
    "duration": 9,
    "start_time": "2025-06-04T19:38:15.272Z"
   },
   {
    "duration": 163,
    "start_time": "2025-06-04T19:38:15.283Z"
   },
   {
    "duration": 398,
    "start_time": "2025-06-04T19:38:15.448Z"
   },
   {
    "duration": 144,
    "start_time": "2025-06-04T19:38:15.848Z"
   },
   {
    "duration": 97,
    "start_time": "2025-06-04T19:38:15.994Z"
   },
   {
    "duration": 8,
    "start_time": "2025-06-04T19:38:16.093Z"
   },
   {
    "duration": 316,
    "start_time": "2025-06-04T19:38:16.102Z"
   },
   {
    "duration": 20,
    "start_time": "2025-06-04T19:38:16.419Z"
   },
   {
    "duration": 52,
    "start_time": "2025-06-04T19:38:16.441Z"
   },
   {
    "duration": 37,
    "start_time": "2025-06-04T19:38:16.495Z"
   },
   {
    "duration": 105,
    "start_time": "2025-06-04T19:43:52.560Z"
   },
   {
    "duration": 6,
    "start_time": "2025-06-04T19:45:07.625Z"
   },
   {
    "duration": 5,
    "start_time": "2025-06-04T19:47:05.423Z"
   },
   {
    "duration": 5,
    "start_time": "2025-06-05T01:08:25.567Z"
   },
   {
    "duration": 16,
    "start_time": "2025-06-05T01:11:39.580Z"
   },
   {
    "duration": 6,
    "start_time": "2025-06-05T01:13:30.787Z"
   },
   {
    "duration": 9,
    "start_time": "2025-06-05T01:14:47.436Z"
   },
   {
    "duration": 5,
    "start_time": "2025-06-05T01:16:08.843Z"
   },
   {
    "duration": 8,
    "start_time": "2025-06-05T02:14:28.770Z"
   },
   {
    "duration": 1258,
    "start_time": "2025-06-05T02:16:05.188Z"
   },
   {
    "duration": 1339,
    "start_time": "2025-06-05T02:16:41.616Z"
   },
   {
    "duration": 6,
    "start_time": "2025-06-05T02:16:53.636Z"
   },
   {
    "duration": 5,
    "start_time": "2025-06-05T02:17:26.406Z"
   },
   {
    "duration": 6,
    "start_time": "2025-06-05T02:17:40.096Z"
   },
   {
    "duration": 968,
    "start_time": "2025-06-05T02:17:58.284Z"
   },
   {
    "duration": 5,
    "start_time": "2025-06-05T02:18:08.090Z"
   },
   {
    "duration": 5,
    "start_time": "2025-06-05T02:19:26.653Z"
   },
   {
    "duration": 4,
    "start_time": "2025-06-05T02:19:35.534Z"
   },
   {
    "duration": 5,
    "start_time": "2025-06-05T02:19:57.608Z"
   },
   {
    "duration": 17,
    "start_time": "2025-06-05T02:23:13.372Z"
   },
   {
    "duration": 324,
    "start_time": "2025-06-05T02:23:37.181Z"
   },
   {
    "duration": 152,
    "start_time": "2025-06-05T02:24:36.755Z"
   },
   {
    "duration": 149,
    "start_time": "2025-06-05T02:24:52.439Z"
   },
   {
    "duration": 147,
    "start_time": "2025-06-05T02:25:01.071Z"
   },
   {
    "duration": 8,
    "start_time": "2025-06-05T02:25:09.551Z"
   },
   {
    "duration": 8,
    "start_time": "2025-06-05T02:25:18.373Z"
   },
   {
    "duration": 9,
    "start_time": "2025-06-05T02:25:27.380Z"
   },
   {
    "duration": 147,
    "start_time": "2025-06-05T02:25:43.570Z"
   },
   {
    "duration": 126,
    "start_time": "2025-06-05T02:27:08.501Z"
   },
   {
    "duration": 116,
    "start_time": "2025-06-05T02:27:18.141Z"
   },
   {
    "duration": 203,
    "start_time": "2025-06-05T02:27:21.407Z"
   },
   {
    "duration": 125,
    "start_time": "2025-06-05T02:27:26.940Z"
   },
   {
    "duration": 18,
    "start_time": "2025-06-05T02:28:35.419Z"
   },
   {
    "duration": 241,
    "start_time": "2025-06-05T02:29:11.480Z"
   },
   {
    "duration": 256,
    "start_time": "2025-06-05T02:29:26.170Z"
   },
   {
    "duration": 145,
    "start_time": "2025-06-05T02:29:31.268Z"
   },
   {
    "duration": 142,
    "start_time": "2025-06-05T02:47:42.087Z"
   },
   {
    "duration": 162,
    "start_time": "2025-06-05T02:47:55.147Z"
   },
   {
    "duration": 157,
    "start_time": "2025-06-05T02:47:58.353Z"
   },
   {
    "duration": 158,
    "start_time": "2025-06-05T02:54:31.853Z"
   },
   {
    "duration": 165,
    "start_time": "2025-06-05T08:00:49.410Z"
   },
   {
    "duration": 55,
    "start_time": "2025-06-05T20:00:34.263Z"
   },
   {
    "duration": 1289,
    "start_time": "2025-06-05T20:01:12.769Z"
   },
   {
    "duration": 35,
    "start_time": "2025-06-05T20:01:15.909Z"
   },
   {
    "duration": 9,
    "start_time": "2025-06-05T20:01:20.452Z"
   },
   {
    "duration": 13,
    "start_time": "2025-06-05T20:02:39.310Z"
   },
   {
    "duration": 17,
    "start_time": "2025-06-05T20:02:44.172Z"
   },
   {
    "duration": 3,
    "start_time": "2025-06-05T20:15:43.766Z"
   },
   {
    "duration": 14,
    "start_time": "2025-06-05T20:15:51.549Z"
   },
   {
    "duration": 139,
    "start_time": "2025-06-05T20:17:27.402Z"
   },
   {
    "duration": 15,
    "start_time": "2025-06-05T20:17:29.885Z"
   },
   {
    "duration": 12,
    "start_time": "2025-06-05T20:17:44.954Z"
   },
   {
    "duration": 20,
    "start_time": "2025-06-05T20:17:48.432Z"
   },
   {
    "duration": 19,
    "start_time": "2025-06-05T20:18:25.037Z"
   },
   {
    "duration": 11,
    "start_time": "2025-06-05T20:19:01.683Z"
   },
   {
    "duration": 106,
    "start_time": "2025-06-05T20:19:08.753Z"
   },
   {
    "duration": 15,
    "start_time": "2025-06-05T20:19:17.947Z"
   },
   {
    "duration": 9,
    "start_time": "2025-06-05T20:20:02.499Z"
   },
   {
    "duration": 8,
    "start_time": "2025-06-05T20:20:09.088Z"
   },
   {
    "duration": 11,
    "start_time": "2025-06-05T20:20:19.752Z"
   },
   {
    "duration": 12,
    "start_time": "2025-06-05T20:20:37.379Z"
   },
   {
    "duration": 12,
    "start_time": "2025-06-05T20:21:32.281Z"
   },
   {
    "duration": 29,
    "start_time": "2025-06-05T20:26:16.070Z"
   },
   {
    "duration": 3,
    "start_time": "2025-06-05T20:26:18.324Z"
   },
   {
    "duration": 12,
    "start_time": "2025-06-05T20:26:22.983Z"
   },
   {
    "duration": 10,
    "start_time": "2025-06-06T00:54:10.033Z"
   },
   {
    "duration": 8,
    "start_time": "2025-06-06T00:54:18.635Z"
   },
   {
    "duration": 3,
    "start_time": "2025-06-06T00:54:48.451Z"
   },
   {
    "duration": 6,
    "start_time": "2025-06-06T00:56:57.120Z"
   },
   {
    "duration": 4,
    "start_time": "2025-06-06T00:58:25.600Z"
   },
   {
    "duration": 4,
    "start_time": "2025-06-06T00:58:25.606Z"
   },
   {
    "duration": 1088,
    "start_time": "2025-06-06T00:58:25.612Z"
   },
   {
    "duration": 34,
    "start_time": "2025-06-06T00:58:26.701Z"
   },
   {
    "duration": 3,
    "start_time": "2025-06-06T00:58:26.736Z"
   },
   {
    "duration": 12,
    "start_time": "2025-06-06T00:58:26.740Z"
   },
   {
    "duration": 5,
    "start_time": "2025-06-06T00:58:26.754Z"
   },
   {
    "duration": 16,
    "start_time": "2025-06-06T00:58:26.760Z"
   },
   {
    "duration": 196,
    "start_time": "2025-06-06T00:58:26.777Z"
   },
   {
    "duration": 19,
    "start_time": "2025-06-06T00:58:26.974Z"
   },
   {
    "duration": 153,
    "start_time": "2025-06-06T00:58:26.994Z"
   },
   {
    "duration": 155,
    "start_time": "2025-06-06T00:58:27.148Z"
   },
   {
    "duration": 10,
    "start_time": "2025-06-06T00:58:27.304Z"
   },
   {
    "duration": 25,
    "start_time": "2025-06-06T00:58:27.316Z"
   },
   {
    "duration": 5,
    "start_time": "2025-06-06T00:58:27.343Z"
   },
   {
    "duration": 8,
    "start_time": "2025-06-06T00:58:27.350Z"
   },
   {
    "duration": 5,
    "start_time": "2025-06-06T00:58:27.359Z"
   },
   {
    "duration": 1616,
    "start_time": "2025-06-06T00:58:27.365Z"
   },
   {
    "duration": 18,
    "start_time": "2025-06-06T00:58:28.982Z"
   },
   {
    "duration": 11,
    "start_time": "2025-06-06T00:58:29.002Z"
   },
   {
    "duration": 130,
    "start_time": "2025-06-06T00:58:29.014Z"
   },
   {
    "duration": 645,
    "start_time": "2025-06-06T00:58:29.146Z"
   },
   {
    "duration": 356,
    "start_time": "2025-06-06T00:58:29.793Z"
   },
   {
    "duration": 8,
    "start_time": "2025-06-06T00:58:30.150Z"
   },
   {
    "duration": 69,
    "start_time": "2025-06-06T00:58:30.160Z"
   },
   {
    "duration": 59,
    "start_time": "2025-06-06T00:58:30.230Z"
   },
   {
    "duration": 30,
    "start_time": "2025-06-06T00:58:30.290Z"
   },
   {
    "duration": 103,
    "start_time": "2025-06-06T00:58:30.321Z"
   },
   {
    "duration": 7,
    "start_time": "2025-06-06T00:58:30.426Z"
   },
   {
    "duration": 248,
    "start_time": "2025-06-06T00:58:30.437Z"
   },
   {
    "duration": 18,
    "start_time": "2025-06-06T00:58:30.687Z"
   },
   {
    "duration": 45,
    "start_time": "2025-06-06T00:58:30.707Z"
   },
   {
    "duration": 35,
    "start_time": "2025-06-06T00:58:30.754Z"
   },
   {
    "duration": 5,
    "start_time": "2025-06-06T00:58:30.790Z"
   },
   {
    "duration": 22,
    "start_time": "2025-06-06T00:58:30.796Z"
   },
   {
    "duration": 30,
    "start_time": "2025-06-06T00:58:30.819Z"
   },
   {
    "duration": 5,
    "start_time": "2025-06-06T01:36:28.216Z"
   },
   {
    "duration": 3,
    "start_time": "2025-06-06T01:38:56.932Z"
   },
   {
    "duration": 5,
    "start_time": "2025-06-06T01:39:10.271Z"
   },
   {
    "duration": 4,
    "start_time": "2025-06-06T01:48:49.140Z"
   },
   {
    "duration": 3,
    "start_time": "2025-06-06T01:48:49.146Z"
   },
   {
    "duration": 1137,
    "start_time": "2025-06-06T01:48:49.151Z"
   },
   {
    "duration": 34,
    "start_time": "2025-06-06T01:48:50.290Z"
   },
   {
    "duration": 3,
    "start_time": "2025-06-06T01:48:50.325Z"
   },
   {
    "duration": 15,
    "start_time": "2025-06-06T01:48:50.329Z"
   },
   {
    "duration": 5,
    "start_time": "2025-06-06T01:48:50.346Z"
   },
   {
    "duration": 7,
    "start_time": "2025-06-06T01:48:50.353Z"
   },
   {
    "duration": 194,
    "start_time": "2025-06-06T01:48:50.362Z"
   },
   {
    "duration": 18,
    "start_time": "2025-06-06T01:48:50.559Z"
   },
   {
    "duration": 158,
    "start_time": "2025-06-06T01:48:50.579Z"
   },
   {
    "duration": 159,
    "start_time": "2025-06-06T01:48:50.739Z"
   },
   {
    "duration": 10,
    "start_time": "2025-06-06T01:48:50.900Z"
   },
   {
    "duration": 9,
    "start_time": "2025-06-06T01:48:50.911Z"
   },
   {
    "duration": 19,
    "start_time": "2025-06-06T01:48:50.922Z"
   },
   {
    "duration": 9,
    "start_time": "2025-06-06T01:48:50.943Z"
   },
   {
    "duration": 3,
    "start_time": "2025-06-06T01:48:50.953Z"
   },
   {
    "duration": 10,
    "start_time": "2025-06-06T01:48:50.957Z"
   },
   {
    "duration": 1466,
    "start_time": "2025-06-06T01:48:50.968Z"
   },
   {
    "duration": 18,
    "start_time": "2025-06-06T01:48:52.438Z"
   },
   {
    "duration": 26,
    "start_time": "2025-06-06T01:48:52.457Z"
   },
   {
    "duration": 118,
    "start_time": "2025-06-06T01:48:52.485Z"
   },
   {
    "duration": 650,
    "start_time": "2025-06-06T01:48:52.605Z"
   },
   {
    "duration": 353,
    "start_time": "2025-06-06T01:48:53.256Z"
   },
   {
    "duration": 7,
    "start_time": "2025-06-06T01:48:53.611Z"
   },
   {
    "duration": 26,
    "start_time": "2025-06-06T01:48:53.619Z"
   },
   {
    "duration": 21,
    "start_time": "2025-06-06T01:48:53.647Z"
   },
   {
    "duration": 11,
    "start_time": "2025-06-06T01:48:53.671Z"
   },
   {
    "duration": 98,
    "start_time": "2025-06-06T01:48:53.684Z"
   },
   {
    "duration": 7,
    "start_time": "2025-06-06T01:48:53.783Z"
   },
   {
    "duration": 265,
    "start_time": "2025-06-06T01:48:53.792Z"
   },
   {
    "duration": 17,
    "start_time": "2025-06-06T01:48:54.059Z"
   },
   {
    "duration": 37,
    "start_time": "2025-06-06T01:48:54.078Z"
   },
   {
    "duration": 56,
    "start_time": "2025-06-06T01:48:54.117Z"
   },
   {
    "duration": 6,
    "start_time": "2025-06-06T01:48:54.176Z"
   },
   {
    "duration": 6,
    "start_time": "2025-06-06T01:48:54.183Z"
   },
   {
    "duration": 20,
    "start_time": "2025-06-06T01:48:54.191Z"
   }
  ],
  "colab": {
   "provenance": [],
   "toc_visible": true
  },
  "hide_input": false,
  "kernelspec": {
   "display_name": "Python 3 (ipykernel)",
   "language": "python",
   "name": "python3"
  },
  "language_info": {
   "codemirror_mode": {
    "name": "ipython",
    "version": 3
   },
   "file_extension": ".py",
   "mimetype": "text/x-python",
   "name": "python",
   "nbconvert_exporter": "python",
   "pygments_lexer": "ipython3",
   "version": "3.9.7"
  },
  "toc": {
   "base_numbering": 1,
   "nav_menu": {},
   "number_sections": true,
   "sideBar": true,
   "skip_h1_title": true,
   "title_cell": "Table of Contents",
   "title_sidebar": "Contents",
   "toc_cell": false,
   "toc_position": {
    "height": "calc(100% - 180px)",
    "left": "10px",
    "top": "150px",
    "width": "165px"
   },
   "toc_section_display": true,
   "toc_window_display": true
  }
 },
 "nbformat": 4,
 "nbformat_minor": 5
}
