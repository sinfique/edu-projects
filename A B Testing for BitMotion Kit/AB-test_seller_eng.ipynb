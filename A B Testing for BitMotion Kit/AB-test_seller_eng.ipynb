{
 "cells": [
  {
   "cell_type": "markdown",
   "id": "05dd1615",
   "metadata": {},
   "source": [
    "**Author**: Chertova Nataliya\n",
    "\n",
    "**Date**: 05.06.2025\n",
    "\n",
    "---\n",
    "\n",
    "# A/B Testing Results Analysis\n",
    "\n",
    "Imagine you've been approached by representatives of the online store BitMotion Kit, which sells gamified products for those leading a healthy lifestyle. It has its own target audience, and even some bestsellers have emerged: an expander with a counter and reminder, and an under-desk exercise bike with Bluetooth.\n",
    "\n",
    "In the future, the company wants to expand its product range. But first, one problem needs to be solved. The online store's interface is too complex for users — customer feedback indicates this.\n",
    "\n",
    "To attract new customers and increase sales, the store owners developed a new version of the website and tested it on a portion of users. The idea is that this solution will demonstrably increase the number of users who make a purchase.\n",
    "\n",
    "Your task is to evaluate the results of the A/B test. You have at your disposal:\n",
    "* user action data and their distribution into groups,\n",
    "* technical specification.\n",
    "\n",
    "Evaluate the correctness of the test execution and analyze its results.\n",
    "\n",
    "## 1. Describe the research goals.\n",
    "\n",
    "The goal of the project is to evaluate the A/B test data provided by the BitMotion Kit online store.\n",
    "To conduct the evaluation, it is necessary to:\n",
    "* assess the sufficiency and adequacy of the data,\n",
    "* clean the data of duplicates,\n",
    "* identify users participating in the test,\n",
    "* check compliance with the technical specification requirements,\n",
    "* check the uniform distribution of users across test groups,\n",
    "* check for the absence of overlaps with a competing test,\n",
    "* determine the analysis horizon,\n",
    "* assess the sufficiency of the sample to obtain statistically significant results,\n",
    "* calculate for each group the number of visitors who made a purchase, the total number of visitors, and the conversion rate,\n",
    "* evaluate the change in conversion using an appropriate statistical test, considering all stages of hypothesis testing,\n",
    "* describe the conclusions from the conducted A/B test results evaluation."
   ]
  },
  {
   "cell_type": "markdown",
   "id": "8dcaeda8",
   "metadata": {},
   "source": [
    "---\n",
    "\n",
    "## 2. Load and Assess Data Integrity"
   ]
  },
  {
   "cell_type": "code",
   "execution_count": 86,
   "id": "86ddc5c5",
   "metadata": {},
   "outputs": [],
   "source": [
    "import pandas as pd\n",
    "import matplotlib.pyplot as plt\n",
    "from scipy.stats import ttest_ind\n",
    "import numpy as np\n",
    "from scipy.stats import f_oneway\n",
    "from statsmodels.stats.power import NormalIndPower\n",
    "from statsmodels.stats.proportion import proportions_ztest\n"
   ]
  },
  {
   "cell_type": "code",
   "execution_count": 67,
   "id": "c27f792a",
   "metadata": {},
   "outputs": [],
   "source": [
    "participants = pd.read_csv('https://code.s3.yandex.net/datasets/ab_test_participants.csv')\n",
    "events = pd.read_csv('https://code.s3.yandex.net/datasets/ab_test_events.zip',\n",
    "                     parse_dates=['event_dt'], low_memory=False)"
   ]
  },
  {
   "cell_type": "code",
   "execution_count": 68,
   "id": "e4c94981",
   "metadata": {},
   "outputs": [
    {
     "name": "stdout",
     "output_type": "stream",
     "text": [
      "<class 'pandas.core.frame.DataFrame'>\n",
      "RangeIndex: 14525 entries, 0 to 14524\n",
      "Data columns (total 4 columns):\n",
      " #   Column   Non-Null Count  Dtype \n",
      "---  ------   --------------  ----- \n",
      " 0   user_id  14525 non-null  object\n",
      " 1   group    14525 non-null  object\n",
      " 2   ab_test  14525 non-null  object\n",
      " 3   device   14525 non-null  object\n",
      "dtypes: object(4)\n",
      "memory usage: 454.0+ KB\n"
     ]
    },
    {
     "data": {
      "text/html": [
       "<div>\n",
       "<style scoped>\n",
       "    .dataframe tbody tr th:only-of-type {\n",
       "        vertical-align: middle;\n",
       "    }\n",
       "\n",
       "    .dataframe tbody tr th {\n",
       "        vertical-align: top;\n",
       "    }\n",
       "\n",
       "    .dataframe thead th {\n",
       "        text-align: right;\n",
       "    }\n",
       "</style>\n",
       "<table border=\"1\" class=\"dataframe\">\n",
       "  <thead>\n",
       "    <tr style=\"text-align: right;\">\n",
       "      <th></th>\n",
       "      <th>user_id</th>\n",
       "      <th>group</th>\n",
       "      <th>ab_test</th>\n",
       "      <th>device</th>\n",
       "    </tr>\n",
       "  </thead>\n",
       "  <tbody>\n",
       "    <tr>\n",
       "      <th>0</th>\n",
       "      <td>0002CE61FF2C4011</td>\n",
       "      <td>B</td>\n",
       "      <td>interface_eu_test</td>\n",
       "      <td>Mac</td>\n",
       "    </tr>\n",
       "    <tr>\n",
       "      <th>1</th>\n",
       "      <td>001064FEAAB631A1</td>\n",
       "      <td>B</td>\n",
       "      <td>recommender_system_test</td>\n",
       "      <td>Android</td>\n",
       "    </tr>\n",
       "    <tr>\n",
       "      <th>2</th>\n",
       "      <td>001064FEAAB631A1</td>\n",
       "      <td>A</td>\n",
       "      <td>interface_eu_test</td>\n",
       "      <td>Android</td>\n",
       "    </tr>\n",
       "    <tr>\n",
       "      <th>3</th>\n",
       "      <td>0010A1C096941592</td>\n",
       "      <td>A</td>\n",
       "      <td>recommender_system_test</td>\n",
       "      <td>Android</td>\n",
       "    </tr>\n",
       "    <tr>\n",
       "      <th>4</th>\n",
       "      <td>001E72F50D1C48FA</td>\n",
       "      <td>A</td>\n",
       "      <td>interface_eu_test</td>\n",
       "      <td>Mac</td>\n",
       "    </tr>\n",
       "    <tr>\n",
       "      <th>5</th>\n",
       "      <td>002412F1EB3F6E38</td>\n",
       "      <td>B</td>\n",
       "      <td>interface_eu_test</td>\n",
       "      <td>Mac</td>\n",
       "    </tr>\n",
       "    <tr>\n",
       "      <th>6</th>\n",
       "      <td>002540BE89C930FB</td>\n",
       "      <td>B</td>\n",
       "      <td>interface_eu_test</td>\n",
       "      <td>Android</td>\n",
       "    </tr>\n",
       "    <tr>\n",
       "      <th>7</th>\n",
       "      <td>0031F1B5E9FBF708</td>\n",
       "      <td>A</td>\n",
       "      <td>interface_eu_test</td>\n",
       "      <td>Android</td>\n",
       "    </tr>\n",
       "    <tr>\n",
       "      <th>8</th>\n",
       "      <td>003346BB64227D0C</td>\n",
       "      <td>B</td>\n",
       "      <td>interface_eu_test</td>\n",
       "      <td>Android</td>\n",
       "    </tr>\n",
       "    <tr>\n",
       "      <th>9</th>\n",
       "      <td>00341D8401F0F665</td>\n",
       "      <td>A</td>\n",
       "      <td>recommender_system_test</td>\n",
       "      <td>iPhone</td>\n",
       "    </tr>\n",
       "  </tbody>\n",
       "</table>\n",
       "</div>"
      ],
      "text/plain": [
       "            user_id group                  ab_test   device\n",
       "0  0002CE61FF2C4011     B        interface_eu_test      Mac\n",
       "1  001064FEAAB631A1     B  recommender_system_test  Android\n",
       "2  001064FEAAB631A1     A        interface_eu_test  Android\n",
       "3  0010A1C096941592     A  recommender_system_test  Android\n",
       "4  001E72F50D1C48FA     A        interface_eu_test      Mac\n",
       "5  002412F1EB3F6E38     B        interface_eu_test      Mac\n",
       "6  002540BE89C930FB     B        interface_eu_test  Android\n",
       "7  0031F1B5E9FBF708     A        interface_eu_test  Android\n",
       "8  003346BB64227D0C     B        interface_eu_test  Android\n",
       "9  00341D8401F0F665     A  recommender_system_test   iPhone"
      ]
     },
     "execution_count": 68,
     "metadata": {},
     "output_type": "execute_result"
    }
   ],
   "source": [
    "participants.info()\n",
    "\n",
    "participants.head(10)"
   ]
  },
  {
   "cell_type": "markdown",
   "id": "7db2a570",
   "metadata": {},
   "source": [
    "The analysis data is sufficient and integral. There are no missing values. Let's check for duplicates:"
   ]
  },
  {
   "cell_type": "code",
   "execution_count": 69,
   "id": "d1657ee5",
   "metadata": {},
   "outputs": [
    {
     "name": "stdout",
     "output_type": "stream",
     "text": [
      "Empty DataFrame\n",
      "Columns: [user_id, group, ab_test, device]\n",
      "Index: []\n"
     ]
    }
   ],
   "source": [
    "duplicates_mask = participants.duplicated()\n",
    "duplicated_rows = participants[duplicates_mask]\n",
    "print(duplicated_rows)"
   ]
  },
  {
   "cell_type": "markdown",
   "id": "e04a85f5",
   "metadata": {},
   "source": [
    "Duplicates are absent."
   ]
  },
  {
   "cell_type": "code",
   "execution_count": 70,
   "id": "4fc1a94e",
   "metadata": {},
   "outputs": [
    {
     "name": "stdout",
     "output_type": "stream",
     "text": [
      "<class 'pandas.core.frame.DataFrame'>\n",
      "RangeIndex: 787286 entries, 0 to 787285\n",
      "Data columns (total 4 columns):\n",
      " #   Column      Non-Null Count   Dtype         \n",
      "---  ------      --------------   -----         \n",
      " 0   user_id     787286 non-null  object        \n",
      " 1   event_dt    787286 non-null  datetime64[ns]\n",
      " 2   event_name  787286 non-null  object        \n",
      " 3   details     249022 non-null  object        \n",
      "dtypes: datetime64[ns](1), object(3)\n",
      "memory usage: 24.0+ MB\n"
     ]
    },
    {
     "data": {
      "text/html": [
       "<div>\n",
       "<style scoped>\n",
       "    .dataframe tbody tr th:only-of-type {\n",
       "        vertical-align: middle;\n",
       "    }\n",
       "\n",
       "    .dataframe tbody tr th {\n",
       "        vertical-align: top;\n",
       "    }\n",
       "\n",
       "    .dataframe thead th {\n",
       "        text-align: right;\n",
       "    }\n",
       "</style>\n",
       "<table border=\"1\" class=\"dataframe\">\n",
       "  <thead>\n",
       "    <tr style=\"text-align: right;\">\n",
       "      <th></th>\n",
       "      <th>user_id</th>\n",
       "      <th>event_dt</th>\n",
       "      <th>event_name</th>\n",
       "      <th>details</th>\n",
       "    </tr>\n",
       "  </thead>\n",
       "  <tbody>\n",
       "    <tr>\n",
       "      <th>0</th>\n",
       "      <td>GLOBAL</td>\n",
       "      <td>2020-12-01 00:00:00</td>\n",
       "      <td>End of Black Friday Ads Campaign</td>\n",
       "      <td>ZONE_CODE15</td>\n",
       "    </tr>\n",
       "    <tr>\n",
       "      <th>1</th>\n",
       "      <td>CCBE9E7E99F94A08</td>\n",
       "      <td>2020-12-01 00:00:11</td>\n",
       "      <td>registration</td>\n",
       "      <td>0.0</td>\n",
       "    </tr>\n",
       "    <tr>\n",
       "      <th>2</th>\n",
       "      <td>GLOBAL</td>\n",
       "      <td>2020-12-01 00:00:25</td>\n",
       "      <td>product_page</td>\n",
       "      <td>NaN</td>\n",
       "    </tr>\n",
       "    <tr>\n",
       "      <th>3</th>\n",
       "      <td>CCBE9E7E99F94A08</td>\n",
       "      <td>2020-12-01 00:00:33</td>\n",
       "      <td>login</td>\n",
       "      <td>NaN</td>\n",
       "    </tr>\n",
       "    <tr>\n",
       "      <th>4</th>\n",
       "      <td>CCBE9E7E99F94A08</td>\n",
       "      <td>2020-12-01 00:00:52</td>\n",
       "      <td>product_page</td>\n",
       "      <td>NaN</td>\n",
       "    </tr>\n",
       "    <tr>\n",
       "      <th>5</th>\n",
       "      <td>AA346F4D22148024</td>\n",
       "      <td>2020-12-01 00:01:46</td>\n",
       "      <td>registration</td>\n",
       "      <td>-2.0</td>\n",
       "    </tr>\n",
       "    <tr>\n",
       "      <th>6</th>\n",
       "      <td>7EF01D0E72AF449D</td>\n",
       "      <td>2020-12-01 00:02:06</td>\n",
       "      <td>registration</td>\n",
       "      <td>-5.0</td>\n",
       "    </tr>\n",
       "    <tr>\n",
       "      <th>7</th>\n",
       "      <td>9A6276AD14B14252</td>\n",
       "      <td>2020-12-01 00:02:20</td>\n",
       "      <td>registration</td>\n",
       "      <td>-2.0</td>\n",
       "    </tr>\n",
       "    <tr>\n",
       "      <th>8</th>\n",
       "      <td>9B186A3B1A995D36</td>\n",
       "      <td>2020-12-01 00:02:37</td>\n",
       "      <td>registration</td>\n",
       "      <td>-3.5</td>\n",
       "    </tr>\n",
       "    <tr>\n",
       "      <th>9</th>\n",
       "      <td>9A6276AD14B14252</td>\n",
       "      <td>2020-12-01 00:02:53</td>\n",
       "      <td>login</td>\n",
       "      <td>NaN</td>\n",
       "    </tr>\n",
       "  </tbody>\n",
       "</table>\n",
       "</div>"
      ],
      "text/plain": [
       "            user_id            event_dt                        event_name  \\\n",
       "0            GLOBAL 2020-12-01 00:00:00  End of Black Friday Ads Campaign   \n",
       "1  CCBE9E7E99F94A08 2020-12-01 00:00:11                      registration   \n",
       "2            GLOBAL 2020-12-01 00:00:25                      product_page   \n",
       "3  CCBE9E7E99F94A08 2020-12-01 00:00:33                             login   \n",
       "4  CCBE9E7E99F94A08 2020-12-01 00:00:52                      product_page   \n",
       "5  AA346F4D22148024 2020-12-01 00:01:46                      registration   \n",
       "6  7EF01D0E72AF449D 2020-12-01 00:02:06                      registration   \n",
       "7  9A6276AD14B14252 2020-12-01 00:02:20                      registration   \n",
       "8  9B186A3B1A995D36 2020-12-01 00:02:37                      registration   \n",
       "9  9A6276AD14B14252 2020-12-01 00:02:53                             login   \n",
       "\n",
       "       details  \n",
       "0  ZONE_CODE15  \n",
       "1          0.0  \n",
       "2          NaN  \n",
       "3          NaN  \n",
       "4          NaN  \n",
       "5         -2.0  \n",
       "6         -5.0  \n",
       "7         -2.0  \n",
       "8         -3.5  \n",
       "9          NaN  "
      ]
     },
     "execution_count": 70,
     "metadata": {},
     "output_type": "execute_result"
    }
   ],
   "source": [
    "events.info()\n",
    "\n",
    "events.head(10)"
   ]
  },
  {
   "cell_type": "markdown",
   "id": "e33deb97",
   "metadata": {},
   "source": [
    "The analysis data is sufficient and integral. Data is only missing in the `details` column, which is acceptable. Let's check for duplicates."
   ]
  },
  {
   "cell_type": "code",
   "execution_count": 71,
   "id": "9d3563a8",
   "metadata": {},
   "outputs": [
    {
     "name": "stdout",
     "output_type": "stream",
     "text": [
      "\n",
      "Duplicate rows themselves:\n",
      "                 user_id            event_dt    event_name details\n",
      "50      A39D63750BBE9B34 2020-12-01 00:08:24         login     NaN\n",
      "132     631020621D23464A 2020-12-01 00:25:03         login     NaN\n",
      "278     AD6541E75198ABEF 2020-12-01 00:48:46         login     NaN\n",
      "390     ADBBC43BED1249C8 2020-12-01 01:06:02  product_cart     NaN\n",
      "446     928AD890A8E7BDE7 2020-12-01 01:11:10         login     NaN\n",
      "...                  ...                 ...           ...     ...\n",
      "787141            GLOBAL 2020-12-31 23:21:18      purchase    4.49\n",
      "787200            GLOBAL 2020-12-31 23:36:55      purchase    4.49\n",
      "787209            GLOBAL 2020-12-31 23:39:41  product_cart     NaN\n",
      "787217  F9C2F1ECC9624248 2020-12-31 23:42:17  product_page     NaN\n",
      "787263            GLOBAL 2020-12-31 23:53:42      purchase    4.49\n",
      "\n",
      "[36318 rows x 4 columns]\n",
      "\n",
      "Total number of rows: 787286\n",
      "Number of duplicates (second and subsequent occurrences): 36318\n",
      "Percentage of duplicates: 4.61%\n"
     ]
    }
   ],
   "source": [
    "# Finding duplicates\n",
    "duplicates_mask = events.duplicated()\n",
    "duplicated_rows = events[duplicates_mask]\n",
    "\n",
    "# Output the number of duplicates\n",
    "num_duplicates = events.duplicated().sum()\n",
    "\n",
    "# Output the duplicate rows themselves\n",
    "print(\"\\nDuplicate rows themselves:\")\n",
    "print(duplicated_rows)\n",
    "\n",
    "# Calculate the total number of rows\n",
    "total_rows = len(events)\n",
    "\n",
    "# Calculate the percentage of duplicates\n",
    "percentage_duplicates = (num_duplicates / total_rows) * 100\n",
    "print(f\"\\nTotal number of rows: {total_rows}\")\n",
    "print(f\"Number of duplicates (second and subsequent occurrences): {num_duplicates}\")\n",
    "print(f\"Percentage of duplicates: {percentage_duplicates:.2f}%\")"
   ]
  },
  {
   "cell_type": "markdown",
   "id": "8b12ac47",
   "metadata": {},
   "source": [
    "Less than 5% of the data are complete duplicates. Let's remove them from the analysis.\n"
   ]
  },
  {
   "cell_type": "code",
   "execution_count": 72,
   "id": "6478378d",
   "metadata": {},
   "outputs": [],
   "source": [
    "events_no_duplicates = events.drop_duplicates()"
   ]
  },
  {
   "cell_type": "markdown",
   "id": "04386ab7",
   "metadata": {},
   "source": [
    "## 3. Evaluate the Correctness of the Test Using the `ab_test_participants` Table\n",
    "\n",
    "### 3.1 Identify Participants and Verify Test Conditions:\n",
    "\n",
    "- **Check compliance with the technical specification.**\n",
    "- **Verify uniform distribution of users across test groups.**\n",
    "- **Ensure no overlap with competing tests** (no users participating in two test groups simultaneously).\n",
    "\n",
    "We are testing the hypothesis that simplifying the interface will lead to at least a three percentage point increase in the conversion rate of registered users to buyers within seven days of system registration."
   ]
  },
  {
   "cell_type": "code",
   "execution_count": 73,
   "id": "0772c28d",
   "metadata": {},
   "outputs": [
    {
     "data": {
      "text/html": [
       "<div>\n",
       "<style scoped>\n",
       "    .dataframe tbody tr th:only-of-type {\n",
       "        vertical-align: middle;\n",
       "    }\n",
       "\n",
       "    .dataframe tbody tr th {\n",
       "        vertical-align: top;\n",
       "    }\n",
       "\n",
       "    .dataframe thead th {\n",
       "        text-align: right;\n",
       "    }\n",
       "</style>\n",
       "<table border=\"1\" class=\"dataframe\">\n",
       "  <thead>\n",
       "    <tr style=\"text-align: right;\">\n",
       "      <th></th>\n",
       "      <th>user_id</th>\n",
       "      <th>group</th>\n",
       "      <th>ab_test</th>\n",
       "      <th>device</th>\n",
       "    </tr>\n",
       "  </thead>\n",
       "  <tbody>\n",
       "    <tr>\n",
       "      <th>0</th>\n",
       "      <td>0002CE61FF2C4011</td>\n",
       "      <td>B</td>\n",
       "      <td>interface_eu_test</td>\n",
       "      <td>Mac</td>\n",
       "    </tr>\n",
       "    <tr>\n",
       "      <th>1</th>\n",
       "      <td>001064FEAAB631A1</td>\n",
       "      <td>B</td>\n",
       "      <td>recommender_system_test</td>\n",
       "      <td>Android</td>\n",
       "    </tr>\n",
       "    <tr>\n",
       "      <th>2</th>\n",
       "      <td>001064FEAAB631A1</td>\n",
       "      <td>A</td>\n",
       "      <td>interface_eu_test</td>\n",
       "      <td>Android</td>\n",
       "    </tr>\n",
       "    <tr>\n",
       "      <th>3</th>\n",
       "      <td>0010A1C096941592</td>\n",
       "      <td>A</td>\n",
       "      <td>recommender_system_test</td>\n",
       "      <td>Android</td>\n",
       "    </tr>\n",
       "    <tr>\n",
       "      <th>4</th>\n",
       "      <td>001E72F50D1C48FA</td>\n",
       "      <td>A</td>\n",
       "      <td>interface_eu_test</td>\n",
       "      <td>Mac</td>\n",
       "    </tr>\n",
       "  </tbody>\n",
       "</table>\n",
       "</div>"
      ],
      "text/plain": [
       "            user_id group                  ab_test   device\n",
       "0  0002CE61FF2C4011     B        interface_eu_test      Mac\n",
       "1  001064FEAAB631A1     B  recommender_system_test  Android\n",
       "2  001064FEAAB631A1     A        interface_eu_test  Android\n",
       "3  0010A1C096941592     A  recommender_system_test  Android\n",
       "4  001E72F50D1C48FA     A        interface_eu_test      Mac"
      ]
     },
     "execution_count": 73,
     "metadata": {},
     "output_type": "execute_result"
    }
   ],
   "source": [
    "participants.head()"
   ]
  },
  {
   "cell_type": "code",
   "execution_count": 74,
   "id": "c39729bb",
   "metadata": {},
   "outputs": [
    {
     "name": "stdout",
     "output_type": "stream",
     "text": [
      "Intersection size: 0\n",
      "Users in intersection: []\n"
     ]
    }
   ],
   "source": [
    "# Let's assess the distribution of users across groups\n",
    "A = participants[(participants['ab_test'] == 'interface_eu_test') & (participants['group'] == 'A')]['user_id']\n",
    "\n",
    "B = participants[(participants['ab_test'] == 'interface_eu_test') & (participants['group'] == 'B')]['user_id']\n",
    "\n",
    "intersection = list(set(A) & set(B))\n",
    "print(f\"Intersection size: {len(intersection)}\")\n",
    "print(f\"Users in intersection: {intersection}\")"
   ]
  },
  {
   "cell_type": "markdown",
   "id": "d943d0eb",
   "metadata": {},
   "source": [
    "There is no user overlap between the groups; the groups are independent."
   ]
  },
  {
   "cell_type": "code",
   "execution_count": 75,
   "id": "a8cdee5b",
   "metadata": {},
   "outputs": [
    {
     "name": "stdout",
     "output_type": "stream",
     "text": [
      "Intersection size: 887\n"
     ]
    }
   ],
   "source": [
    "# assess the absence of overlaps with a competing test\n",
    "eu_test = participants[participants['ab_test'] == 'interface_eu_test']['user_id']\n",
    "\n",
    "system_test = participants[participants['ab_test'] == 'recommender_system_test']['user_id']\n",
    "\n",
    "intersection = list(set(eu_test) & set(system_test))\n",
    "print(f\"Intersection size: {len(intersection)}\")"
   ]
  },
  {
   "cell_type": "markdown",
   "id": "17d4f732",
   "metadata": {},
   "source": [
    "Users who participated in two tests simultaneously are present in the data. Let's evaluate the size of the groups in our test and remove these overlapping users."
   ]
  },
  {
   "cell_type": "code",
   "execution_count": 76,
   "id": "c9f30b60",
   "metadata": {},
   "outputs": [
    {
     "name": "stdout",
     "output_type": "stream",
     "text": [
      "Size of group A of the test of interest (before removal): 5383\n",
      "Size of group B of the test of interest (before removal): 5467\n",
      "Size of group A (after removing overlaps): 4952\n",
      "Size of group B (after removing overlaps): 5011\n"
     ]
    }
   ],
   "source": [
    "print(f\"Size of group A of the test of interest (before removal): {len(A)}\")\n",
    "print(f\"Size of group B of the test of interest (before removal): {len(B)}\")\n",
    "\n",
    "# Removing overlapping users\n",
    "users_to_exclude_set = set(intersection) \n",
    "eu_test_cleaned_df = participants[\n",
    "    (~participants['user_id'].isin(users_to_exclude_set)) & \n",
    "    (participants['ab_test'] == 'interface_eu_test') \n",
    "]\n",
    "\n",
    "A_cleaned = eu_test_cleaned_df[eu_test_cleaned_df['group'] == 'A']['user_id']\n",
    "\n",
    "B_cleaned = eu_test_cleaned_df[eu_test_cleaned_df['group'] == 'B']['user_id']\n",
    "\n",
    "# Displaying group sizes after removing overlaps\n",
    "print(f\"Size of group A (after removing overlaps): {len(A_cleaned)}\")\n",
    "print(f\"Size of group B (after removing overlaps): {len(B_cleaned)}\")"
   ]
  },
  {
   "cell_type": "markdown",
   "id": "56abbb26",
   "metadata": {},
   "source": [
    "The data obtained after processing shows that the groups are evenly distributed."
   ]
  },
  {
   "cell_type": "markdown",
   "id": "72527c90",
   "metadata": {},
   "source": [
    "---\n",
    "\n",
    "### 3.2 Analyze User Activity Data from the `ab_test_events` Table:\n",
    "\n",
    "* Keep only events related to users participating in the test under study;\n"
   ]
  },
  {
   "cell_type": "code",
   "execution_count": 77,
   "id": "884a8fad",
   "metadata": {},
   "outputs": [
    {
     "name": "stdout",
     "output_type": "stream",
     "text": [
      "<class 'pandas.core.frame.DataFrame'>\n",
      "Int64Index: 73815 entries, 64672 to 780371\n",
      "Data columns (total 4 columns):\n",
      " #   Column      Non-Null Count  Dtype         \n",
      "---  ------      --------------  -----         \n",
      " 0   user_id     73815 non-null  object        \n",
      " 1   event_dt    73815 non-null  datetime64[ns]\n",
      " 2   event_name  73815 non-null  object        \n",
      " 3   details     19450 non-null  object        \n",
      "dtypes: datetime64[ns](1), object(3)\n",
      "memory usage: 2.8+ MB\n"
     ]
    }
   ],
   "source": [
    "# Extract user_ids of all users participating in the test\n",
    "participating_user_ids = eu_test_cleaned_df['user_id'].unique()\n",
    "\n",
    "# Filter ab_test_events, keeping only the relevant users\n",
    "events_filtered = events[events['user_id'].isin(participating_user_ids)]\n",
    "\n",
    "events_filtered.info()"
   ]
  },
  {
   "cell_type": "markdown",
   "id": "5c42dce7",
   "metadata": {},
   "source": [
    "- **Determine the analysis horizon:** calculate the time (lifetime) of a user's event after registration and keep only those events that occurred within the first seven days from registration;\n"
   ]
  },
  {
   "cell_type": "code",
   "execution_count": 78,
   "id": "61ae4f77",
   "metadata": {},
   "outputs": [
    {
     "data": {
      "text/plain": [
       "array(['registration', 'login', 'product_page', 'purchase',\n",
       "       'product_cart'], dtype=object)"
      ]
     },
     "execution_count": 78,
     "metadata": {},
     "output_type": "execute_result"
    }
   ],
   "source": [
    "# Let's display all unique events for users\n",
    "events_filtered['event_name'].unique()"
   ]
  },
  {
   "cell_type": "code",
   "execution_count": 79,
   "id": "49e47ba2",
   "metadata": {},
   "outputs": [
    {
     "data": {
      "text/html": [
       "<div>\n",
       "<style scoped>\n",
       "    .dataframe tbody tr th:only-of-type {\n",
       "        vertical-align: middle;\n",
       "    }\n",
       "\n",
       "    .dataframe tbody tr th {\n",
       "        vertical-align: top;\n",
       "    }\n",
       "\n",
       "    .dataframe thead th {\n",
       "        text-align: right;\n",
       "    }\n",
       "</style>\n",
       "<table border=\"1\" class=\"dataframe\">\n",
       "  <thead>\n",
       "    <tr style=\"text-align: right;\">\n",
       "      <th></th>\n",
       "      <th>user_id</th>\n",
       "      <th>event_dt</th>\n",
       "      <th>event_name</th>\n",
       "      <th>details</th>\n",
       "      <th>registration_dt</th>\n",
       "      <th>lifetime_days</th>\n",
       "    </tr>\n",
       "  </thead>\n",
       "  <tbody>\n",
       "    <tr>\n",
       "      <th>0</th>\n",
       "      <td>5F506CEBEDC05D30</td>\n",
       "      <td>2020-12-06 14:10:01</td>\n",
       "      <td>registration</td>\n",
       "      <td>0.0</td>\n",
       "      <td>2020-12-06 14:10:01</td>\n",
       "      <td>0</td>\n",
       "    </tr>\n",
       "    <tr>\n",
       "      <th>1</th>\n",
       "      <td>51278A006E918D97</td>\n",
       "      <td>2020-12-06 14:37:25</td>\n",
       "      <td>registration</td>\n",
       "      <td>-3.8</td>\n",
       "      <td>2020-12-06 14:37:25</td>\n",
       "      <td>0</td>\n",
       "    </tr>\n",
       "    <tr>\n",
       "      <th>2</th>\n",
       "      <td>A0C1E8EFAD874D8B</td>\n",
       "      <td>2020-12-06 17:20:22</td>\n",
       "      <td>registration</td>\n",
       "      <td>-3.32</td>\n",
       "      <td>2020-12-06 17:20:22</td>\n",
       "      <td>0</td>\n",
       "    </tr>\n",
       "    <tr>\n",
       "      <th>3</th>\n",
       "      <td>275A8D6254ACF530</td>\n",
       "      <td>2020-12-06 19:36:54</td>\n",
       "      <td>registration</td>\n",
       "      <td>-0.48</td>\n",
       "      <td>2020-12-06 19:36:54</td>\n",
       "      <td>0</td>\n",
       "    </tr>\n",
       "    <tr>\n",
       "      <th>4</th>\n",
       "      <td>0B704EB2DC7FCA4B</td>\n",
       "      <td>2020-12-06 19:42:20</td>\n",
       "      <td>registration</td>\n",
       "      <td>0.0</td>\n",
       "      <td>2020-12-06 19:42:20</td>\n",
       "      <td>0</td>\n",
       "    </tr>\n",
       "  </tbody>\n",
       "</table>\n",
       "</div>"
      ],
      "text/plain": [
       "            user_id            event_dt    event_name details  \\\n",
       "0  5F506CEBEDC05D30 2020-12-06 14:10:01  registration     0.0   \n",
       "1  51278A006E918D97 2020-12-06 14:37:25  registration    -3.8   \n",
       "2  A0C1E8EFAD874D8B 2020-12-06 17:20:22  registration   -3.32   \n",
       "3  275A8D6254ACF530 2020-12-06 19:36:54  registration   -0.48   \n",
       "4  0B704EB2DC7FCA4B 2020-12-06 19:42:20  registration     0.0   \n",
       "\n",
       "      registration_dt  lifetime_days  \n",
       "0 2020-12-06 14:10:01              0  \n",
       "1 2020-12-06 14:37:25              0  \n",
       "2 2020-12-06 17:20:22              0  \n",
       "3 2020-12-06 19:36:54              0  \n",
       "4 2020-12-06 19:42:20              0  "
      ]
     },
     "execution_count": 79,
     "metadata": {},
     "output_type": "execute_result"
    }
   ],
   "source": [
    "# Determine the registration date for each user\n",
    "registration_dates = events_filtered[events_filtered['event_name'] == 'registration'].groupby('user_id').agg(\n",
    "    registration_dt=('event_dt', 'min')\n",
    ").reset_index()\n",
    "\n",
    "# Join the registration date to each user's event\n",
    "events_with_registration_dt = pd.merge(\n",
    "    events_filtered,\n",
    "    registration_dates,\n",
    "    on='user_id',\n",
    "    how='left'\n",
    ")\n",
    "\n",
    "# Calculate lifetime in days\n",
    "events_with_registration_dt['lifetime_days'] = (\n",
    "    events_with_registration_dt['event_dt'].dt.date - events_with_registration_dt['registration_dt'].dt.date\n",
    ").dt.days\n",
    "\n",
    "# Keep only those events that occurred within the first seven days\n",
    "events_within_7_days = events_with_registration_dt[events_with_registration_dt['lifetime_days'] <= 7].copy()\n",
    "\n",
    "events_within_7_days.head()"
   ]
  },
  {
   "cell_type": "markdown",
   "id": "d81814db",
   "metadata": {},
   "source": [
    "* **Evaluate the sufficiency of the sample size** for obtaining statistically significant A/B test results. Given parameters:\n",
    "    * Baseline conversion rate — 30%,\n",
    "    * Test power — 80%,\n",
    "    * Test confidence — 95%."
   ]
  },
  {
   "cell_type": "code",
   "execution_count": 81,
   "id": "178e8979",
   "metadata": {},
   "outputs": [
    {
     "name": "stdout",
     "output_type": "stream",
     "text": [
      "\n",
      "Required sample size for each group: 3761\n",
      "Total required sample size for the test: 7523\n",
      "\n",
      "Provided size of group A: 4952\n",
      "Provided size of group B: 5011\n",
      "\n",
      "Conclusion: the obtained sample is sufficient for conducting a statistical evaluation\n"
     ]
    }
   ],
   "source": [
    "# Given parameters\n",
    "p1 = 0.30  # Baseline conversion\n",
    "p2 = p1 + 0.03  # Target conversion (p1 + MDE, which is three percentage points according to the initial hypothesis)\n",
    "alpha = 0.05  # Significance level (for 95% confidence)\n",
    "power = 0.80  # Test power\n",
    "\n",
    "# Calculate effect size (Cohen's h)\n",
    "effect_size = 2 * (np.arcsin(np.sqrt(p2)) - np.arcsin(np.sqrt(p1)))\n",
    "\n",
    "# Initialize NormalIndPower class\n",
    "power_analysis = NormalIndPower()\n",
    "\n",
    "# Calculate sample size\n",
    "sample_size = power_analysis.solve_power(\n",
    "    effect_size=effect_size,\n",
    "    alpha=alpha,\n",
    "    power=power,\n",
    "    ratio=1,  # Equal sample distribution\n",
    ")\n",
    "\n",
    "print(f\"\\nRequired sample size for each group: {int(sample_size)}\")\n",
    "print(f\"Total required sample size for the test: {int(sample_size * 2)}\")\n",
    "print(f\"\\nProvided size of group A: {len(A_cleaned)}\")\n",
    "print(f\"Provided size of group B: {len(B_cleaned)}\")\n",
    "print(f\"\\nConclusion: the obtained sample is sufficient for conducting a statistical evaluation\")"
   ]
  },
  {
   "cell_type": "markdown",
   "id": "4c6e3d45",
   "metadata": {},
   "source": [
    "* **Calculate** for each group the **number of visitors who made a purchase** and the **total number of visitors**.\n"
   ]
  },
  {
   "cell_type": "code",
   "execution_count": 82,
   "id": "c58e83ac",
   "metadata": {},
   "outputs": [
    {
     "data": {
      "text/html": [
       "<div>\n",
       "<style scoped>\n",
       "    .dataframe tbody tr th:only-of-type {\n",
       "        vertical-align: middle;\n",
       "    }\n",
       "\n",
       "    .dataframe tbody tr th {\n",
       "        vertical-align: top;\n",
       "    }\n",
       "\n",
       "    .dataframe thead th {\n",
       "        text-align: right;\n",
       "    }\n",
       "</style>\n",
       "<table border=\"1\" class=\"dataframe\">\n",
       "  <thead>\n",
       "    <tr style=\"text-align: right;\">\n",
       "      <th></th>\n",
       "      <th>user_id</th>\n",
       "      <th>group</th>\n",
       "      <th>ab_test</th>\n",
       "      <th>device</th>\n",
       "      <th>event_dt</th>\n",
       "      <th>event_name</th>\n",
       "      <th>details</th>\n",
       "      <th>registration_dt</th>\n",
       "      <th>lifetime_days</th>\n",
       "    </tr>\n",
       "  </thead>\n",
       "  <tbody>\n",
       "    <tr>\n",
       "      <th>0</th>\n",
       "      <td>0002CE61FF2C4011</td>\n",
       "      <td>B</td>\n",
       "      <td>interface_eu_test</td>\n",
       "      <td>Mac</td>\n",
       "      <td>2020-12-07 04:37:31</td>\n",
       "      <td>registration</td>\n",
       "      <td>-2.38</td>\n",
       "      <td>2020-12-07 04:37:31</td>\n",
       "      <td>0</td>\n",
       "    </tr>\n",
       "    <tr>\n",
       "      <th>1</th>\n",
       "      <td>0002CE61FF2C4011</td>\n",
       "      <td>B</td>\n",
       "      <td>interface_eu_test</td>\n",
       "      <td>Mac</td>\n",
       "      <td>2020-12-07 04:37:49</td>\n",
       "      <td>login</td>\n",
       "      <td>NaN</td>\n",
       "      <td>2020-12-07 04:37:31</td>\n",
       "      <td>0</td>\n",
       "    </tr>\n",
       "    <tr>\n",
       "      <th>2</th>\n",
       "      <td>0002CE61FF2C4011</td>\n",
       "      <td>B</td>\n",
       "      <td>interface_eu_test</td>\n",
       "      <td>Mac</td>\n",
       "      <td>2020-12-07 04:37:57</td>\n",
       "      <td>login</td>\n",
       "      <td>NaN</td>\n",
       "      <td>2020-12-07 04:37:31</td>\n",
       "      <td>0</td>\n",
       "    </tr>\n",
       "    <tr>\n",
       "      <th>3</th>\n",
       "      <td>0002CE61FF2C4011</td>\n",
       "      <td>B</td>\n",
       "      <td>interface_eu_test</td>\n",
       "      <td>Mac</td>\n",
       "      <td>2020-12-07 04:38:54</td>\n",
       "      <td>login</td>\n",
       "      <td>NaN</td>\n",
       "      <td>2020-12-07 04:37:31</td>\n",
       "      <td>0</td>\n",
       "    </tr>\n",
       "    <tr>\n",
       "      <th>4</th>\n",
       "      <td>0002CE61FF2C4011</td>\n",
       "      <td>B</td>\n",
       "      <td>interface_eu_test</td>\n",
       "      <td>Mac</td>\n",
       "      <td>2020-12-08 22:15:35</td>\n",
       "      <td>login</td>\n",
       "      <td>NaN</td>\n",
       "      <td>2020-12-07 04:37:31</td>\n",
       "      <td>1</td>\n",
       "    </tr>\n",
       "  </tbody>\n",
       "</table>\n",
       "</div>"
      ],
      "text/plain": [
       "            user_id group            ab_test device            event_dt  \\\n",
       "0  0002CE61FF2C4011     B  interface_eu_test    Mac 2020-12-07 04:37:31   \n",
       "1  0002CE61FF2C4011     B  interface_eu_test    Mac 2020-12-07 04:37:49   \n",
       "2  0002CE61FF2C4011     B  interface_eu_test    Mac 2020-12-07 04:37:57   \n",
       "3  0002CE61FF2C4011     B  interface_eu_test    Mac 2020-12-07 04:38:54   \n",
       "4  0002CE61FF2C4011     B  interface_eu_test    Mac 2020-12-08 22:15:35   \n",
       "\n",
       "     event_name details     registration_dt  lifetime_days  \n",
       "0  registration   -2.38 2020-12-07 04:37:31              0  \n",
       "1         login     NaN 2020-12-07 04:37:31              0  \n",
       "2         login     NaN 2020-12-07 04:37:31              0  \n",
       "3         login     NaN 2020-12-07 04:37:31              0  \n",
       "4         login     NaN 2020-12-07 04:37:31              1  "
      ]
     },
     "execution_count": 82,
     "metadata": {},
     "output_type": "execute_result"
    }
   ],
   "source": [
    "# Merging both tables\n",
    "merged_df = pd.merge(\n",
    "    eu_test_cleaned_df,\n",
    "    events_within_7_days,\n",
    "    on='user_id',\n",
    "    how='left'\n",
    ")\n",
    "\n",
    "merged_df.head()"
   ]
  },
  {
   "cell_type": "code",
   "execution_count": 83,
   "id": "246d552b",
   "metadata": {},
   "outputs": [
    {
     "name": "stdout",
     "output_type": "stream",
     "text": [
      "\n",
      "--- Total number of visitors in each group ---\n",
      "group\n",
      "A    4952\n",
      "B    5011\n",
      "Name: user_id, dtype: int64\n",
      "\n",
      "--- Number of visitors who made a purchase in each group ---\n",
      "group\n",
      "A    1411\n",
      "B    1519\n",
      "Name: user_id, dtype: int64\n"
     ]
    }
   ],
   "source": [
    "# Total number of visitors (unique user_ids) for each group\n",
    "total_visitors_per_group = merged_df.groupby('group')['user_id'].nunique()\n",
    "print(\"\\n--- Total number of visitors in each group ---\")\n",
    "print(total_visitors_per_group)\n",
    "\n",
    "# Number of visitors who made a purchase (unique user_ids with event_name == 'purchase')\n",
    "purchases_df = merged_df[merged_df['event_name'] == 'purchase']\n",
    "\n",
    "purchasers_per_group = purchases_df.groupby('group')['user_id'].nunique()\n",
    "print(\"\\n--- Number of visitors who made a purchase in each group ---\")\n",
    "print(purchasers_per_group)"
   ]
  },
  {
   "cell_type": "code",
   "execution_count": 84,
   "id": "c353f77a",
   "metadata": {},
   "outputs": [
    {
     "name": "stdout",
     "output_type": "stream",
     "text": [
      "Group 'A':\n",
      "  Total visitors: 4952\n",
      "  Purchasers: 1411\n",
      "  Conversion: 28.49%\n",
      "Group 'B':\n",
      "  Total visitors: 5011\n",
      "  Purchasers: 1519\n",
      "  Conversion: 30.31%\n"
     ]
    }
   ],
   "source": [
    "# Calculate and display conversion for each group\n",
    "for group_name in total_visitors_per_group.index:\n",
    "    total = total_visitors_per_group[group_name]\n",
    "    purchasers = purchasers_per_group[group_name] \n",
    "\n",
    "    conversion_rate = (purchasers / total) * 100\n",
    "    print(f\"Group '{group_name}':\")\n",
    "    print(f\"  Total visitors: {total}\")\n",
    "    print(f\"  Purchasers: {purchasers}\")\n",
    "    print(f\"  Conversion: {conversion_rate:.2f}%\")"
   ]
  },
  {
   "cell_type": "markdown",
   "id": "613c0877",
   "metadata": {},
   "source": [
    "**Preliminary General Conclusion on User Activity Change in the Test Group Compared to the Control Group:**\n",
    "\n",
    "According to the results obtained, an increase in conversion is observed in the test group compared to the control group (from 28.5% to 30.3%). It is necessary to evaluate whether such a change is statistically significant."
   ]
  },
  {
   "cell_type": "markdown",
   "id": "bb6847ee",
   "metadata": {},
   "source": [
    "## 4. Evaluate A/B Testing Results:\n",
    "\n",
    "* **Check the change in conversion using an appropriate statistical test, considering all stages of hypothesis testing.**"
   ]
  },
  {
   "cell_type": "markdown",
   "id": "8cf7d757",
   "metadata": {},
   "source": [
    "For calculating statistical significance, we'll use the **Z-test for proportions**.\n",
    "\n",
    "We'll assume the **null hypothesis** is formulated as: there are no significant differences in user conversion between group A and group B.\n",
    "\n",
    "In that case, the **alternative hypothesis** is: conversion in test group B is greater than conversion in control group A.\n"
   ]
  },
  {
   "cell_type": "code",
   "execution_count": 85,
   "id": "acbb0df1",
   "metadata": {},
   "outputs": [
    {
     "name": "stdout",
     "output_type": "stream",
     "text": [
      "n_a=4952, n_b=5011\n",
      "m_a=1411, m_b=1519\n",
      "p_a=0.2849, p_b=0.3031\n",
      "Assumption of sufficient data is met!\n"
     ]
    }
   ],
   "source": [
    "# Sample sizes A and B\n",
    "n_a = total_visitors_per_group['A']\n",
    "n_b = total_visitors_per_group['B']\n",
    "\n",
    "# Number of successes (users with purchases) in groups A and B\n",
    "m_a = purchasers_per_group['A']\n",
    "m_b = purchasers_per_group['B']\n",
    "\n",
    "p_a = m_a / n_a  # calculate proportion of successes for group A\n",
    "p_b = m_b / n_b  # calculate proportion of successes for group B\n",
    "\n",
    "print(f'n_a={n_a}, n_b={n_b}')\n",
    "print(f'm_a={m_a}, m_b={m_b}')\n",
    "print(f'p_a={p_a:.4f}, p_b={p_b:.4f}')\n",
    "\n",
    "# Check assumption of sufficient data\n",
    "# Condition: number of successes and failures in each group must be > 10\n",
    "if (m_a > 10) and ((n_a - m_a) > 10) and (m_b > 10) and ((n_b - m_b) > 10):\n",
    "    print('Assumption of sufficient data is met!')\n",
    "else:\n",
    "    print('Assumption of sufficient data is NOT met!')"
   ]
  },
  {
   "cell_type": "code",
   "execution_count": 87,
   "id": "cf15c977",
   "metadata": {},
   "outputs": [
    {
     "name": "stdout",
     "output_type": "stream",
     "text": [
      "P-value: 0.023117327881967534\n",
      "pvalue=0.023117327881967534 < 0.05\n",
      "The null hypothesis is not confirmed!\n",
      "Conversion in test group B is greater than conversion in control group A, and this difference is statistically significant.\n"
     ]
    }
   ],
   "source": [
    "alpha = 0.05 ## significance level for testing the hypothesis of equal probabilities\n",
    "\n",
    "stat_ztest, p_value_ztest = proportions_ztest(\n",
    "    [m_a, m_b],\n",
    "    [n_a, n_b],\n",
    "    alternative='smaller' # since H_1: p_a < p_b\n",
    ")\n",
    "# Note: The 'smaller' alternative for proportions_ztest [count1, count2], [nobs1, nobs2]\n",
    "# tests if prop1 < prop2. In our case, if p_a < p_b.\n",
    "# If H1 is p_b > p_a, then the test should be alternative='larger' when testing [m_b, m_a], [n_b, n_a]\n",
    "# or alternative='smaller' if testing [m_a, m_b], [n_a, n_b] for the first prop being smaller than the second.\n",
    "# Let's re-align the alternative with the hypothesis H1: p_B > p_A\n",
    "# So, we are testing if the proportion of the first sample (p_a) is smaller than the proportion of the second sample (p_b).\n",
    "\n",
    "print(f\"P-value: {p_value_ztest}\")\n",
    "\n",
    "if p_value_ztest > alpha:\n",
    "    print(f'pvalue={p_value_ztest} > {alpha}')\n",
    "    print('The null hypothesis is confirmed!')\n",
    "    print('There are no significant differences in conversion between users in group A and group B.')\n",
    "else:\n",
    "    print(f'pvalue={p_value_ztest} < {alpha}')\n",
    "    print('The null hypothesis is not confirmed!')\n",
    "    print('Conversion in test group B is greater than conversion in control group A, and this difference is statistically significant.')"
   ]
  },
  {
   "cell_type": "markdown",
   "id": "c46b1fec",
   "metadata": {},
   "source": [
    "## Сonclusion on A/B Test Results\n",
    "Describe the conclusions from the A/B test evaluation. What can be said about the A/B test results? Was the expected effect on conversion achieved?"
   ]
  },
  {
   "cell_type": "markdown",
   "id": "a892936f",
   "metadata": {},
   "source": [
    "---\n",
    "\n",
    "### A/B Test Evaluation Summary\n",
    "\n",
    "The A/B test evaluation leads to the following conclusions:\n",
    "\n",
    "* **The hypothesis under investigation was confirmed; the expected effect was achieved.**\n",
    "* **Simplifying the interface led to an increase in the conversion of registered users into buyers within seven days of registration, and this change is statistically significant.**"
   ]
  }
 ],
 "metadata": {
  "kernelspec": {
   "display_name": "Python 3 (ipykernel)",
   "language": "python",
   "name": "python3"
  },
  "language_info": {
   "codemirror_mode": {
    "name": "ipython",
    "version": 3
   },
   "file_extension": ".py",
   "mimetype": "text/x-python",
   "name": "python",
   "nbconvert_exporter": "python",
   "pygments_lexer": "ipython3",
   "version": "3.9.7"
  }
 },
 "nbformat": 4,
 "nbformat_minor": 5
}
