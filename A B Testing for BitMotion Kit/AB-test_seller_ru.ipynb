{
 "cells": [
  {
   "cell_type": "markdown",
   "id": "618fe882",
   "metadata": {},
   "source": [
    "# Анализ результатов A/B-тестирования"
   ]
  },
  {
   "cell_type": "markdown",
   "id": "70207819",
   "metadata": {},
   "source": [
    "Представьте, что к вам обратились представители интернет-магазина BitMotion Kit, в котором продаются геймифицированные товары для тех, кто ведёт здоровый образ жизни. У него есть своя целевая аудитория, даже появились хиты продаж: эспандер со счётчиком и напоминанием, так и подстольный велотренажёр с Bluetooth.\n",
    "\n",
    "В будущем компания хочет расширить ассортимент товаров. Но перед этим нужно решить одну проблему. Интерфейс онлайн-магазина слишком сложен для пользователей — об этом говорят отзывы.\n",
    "\n",
    "Чтобы привлечь новых клиентов и увеличить число продаж, владельцы магазина разработали новую версию сайта и протестировали его на части пользователей. По задумке, это решение доказуемо повысит количество пользователей, которые совершат покупку.\n",
    "\n",
    "Ваша задача — провести оценку результатов A/B-теста. В вашем распоряжении:\n",
    "\n",
    "* данные о действиях пользователей и распределении их на группы,\n",
    "\n",
    "* техническое задание.\n",
    "\n",
    "Оцените корректность проведения теста и проанализируйте его результаты."
   ]
  },
  {
   "cell_type": "markdown",
   "id": "fa20c12a",
   "metadata": {},
   "source": [
    "## 1. Опишите цели исследования.\n"
   ]
  },
  {
   "cell_type": "markdown",
   "id": "378bf3ce",
   "metadata": {},
   "source": [
    "Целью проекта является оценка данных A/B-теста, представленных интернет-магазином BitMotion Kit. \n",
    "\n",
    "Для проведения оценки необходимо:\n",
    "- оценить достаточность и адекватность данных,\n",
    "- провести очистку данных от дубликатов,\n",
    "- выделить пользователей, участвующих в тесте,\n",
    "- проверить соответствие требованиям технического задания,\n",
    "- проверить равномерность распределения пользователей по группам теста,\n",
    "- проверить отсутствие пересечений с конкурирующим тестом,\n",
    "- определить горизонт анализа,\n",
    "- оценить достаточность выборки для получения статистически значимых результатов,\n",
    "- рассчитать для каждой группы количество посетителей, сделавших покупку, и общее количество посетителей, и конверсию,\n",
    "- оценить изменение конверсии подходящим статистическим тестом, учитывая все этапы проверки гипотез,\n",
    "- описать выводы по проведённой оценке результатов A/B-тестирования."
   ]
  },
  {
   "cell_type": "markdown",
   "id": "0793e4fb",
   "metadata": {},
   "source": [
    "## 2. Загрузите данные, оцените их целостность.\n"
   ]
  },
  {
   "cell_type": "code",
   "execution_count": 23,
   "id": "5107b17d",
   "metadata": {},
   "outputs": [],
   "source": [
    "# Импортируем библиотеки\n",
    "import pandas as pd\n",
    "import matplotlib.pyplot as plt\n",
    "from scipy.stats import ttest_ind\n",
    "import numpy as np\n",
    "from scipy.stats import f_oneway\n",
    "from statsmodels.stats.power import NormalIndPower\n",
    "from statsmodels.stats.proportion import proportions_ztest\n"
   ]
  },
  {
   "cell_type": "code",
   "execution_count": 3,
   "id": "456e76d7",
   "metadata": {},
   "outputs": [],
   "source": [
    "participants = pd.read_csv('https://code.s3.yandex.net/datasets/ab_test_participants.csv')\n",
    "events = pd.read_csv('https://code.s3.yandex.net/datasets/ab_test_events.zip',\n",
    "                     parse_dates=['event_dt'], low_memory=False)"
   ]
  },
  {
   "cell_type": "code",
   "execution_count": 4,
   "id": "df057317",
   "metadata": {},
   "outputs": [
    {
     "name": "stdout",
     "output_type": "stream",
     "text": [
      "<class 'pandas.core.frame.DataFrame'>\n",
      "RangeIndex: 14525 entries, 0 to 14524\n",
      "Data columns (total 4 columns):\n",
      " #   Column   Non-Null Count  Dtype \n",
      "---  ------   --------------  ----- \n",
      " 0   user_id  14525 non-null  object\n",
      " 1   group    14525 non-null  object\n",
      " 2   ab_test  14525 non-null  object\n",
      " 3   device   14525 non-null  object\n",
      "dtypes: object(4)\n",
      "memory usage: 454.0+ KB\n"
     ]
    },
    {
     "data": {
      "text/html": [
       "<div>\n",
       "<style scoped>\n",
       "    .dataframe tbody tr th:only-of-type {\n",
       "        vertical-align: middle;\n",
       "    }\n",
       "\n",
       "    .dataframe tbody tr th {\n",
       "        vertical-align: top;\n",
       "    }\n",
       "\n",
       "    .dataframe thead th {\n",
       "        text-align: right;\n",
       "    }\n",
       "</style>\n",
       "<table border=\"1\" class=\"dataframe\">\n",
       "  <thead>\n",
       "    <tr style=\"text-align: right;\">\n",
       "      <th></th>\n",
       "      <th>user_id</th>\n",
       "      <th>group</th>\n",
       "      <th>ab_test</th>\n",
       "      <th>device</th>\n",
       "    </tr>\n",
       "  </thead>\n",
       "  <tbody>\n",
       "    <tr>\n",
       "      <th>0</th>\n",
       "      <td>0002CE61FF2C4011</td>\n",
       "      <td>B</td>\n",
       "      <td>interface_eu_test</td>\n",
       "      <td>Mac</td>\n",
       "    </tr>\n",
       "    <tr>\n",
       "      <th>1</th>\n",
       "      <td>001064FEAAB631A1</td>\n",
       "      <td>B</td>\n",
       "      <td>recommender_system_test</td>\n",
       "      <td>Android</td>\n",
       "    </tr>\n",
       "    <tr>\n",
       "      <th>2</th>\n",
       "      <td>001064FEAAB631A1</td>\n",
       "      <td>A</td>\n",
       "      <td>interface_eu_test</td>\n",
       "      <td>Android</td>\n",
       "    </tr>\n",
       "    <tr>\n",
       "      <th>3</th>\n",
       "      <td>0010A1C096941592</td>\n",
       "      <td>A</td>\n",
       "      <td>recommender_system_test</td>\n",
       "      <td>Android</td>\n",
       "    </tr>\n",
       "    <tr>\n",
       "      <th>4</th>\n",
       "      <td>001E72F50D1C48FA</td>\n",
       "      <td>A</td>\n",
       "      <td>interface_eu_test</td>\n",
       "      <td>Mac</td>\n",
       "    </tr>\n",
       "    <tr>\n",
       "      <th>5</th>\n",
       "      <td>002412F1EB3F6E38</td>\n",
       "      <td>B</td>\n",
       "      <td>interface_eu_test</td>\n",
       "      <td>Mac</td>\n",
       "    </tr>\n",
       "    <tr>\n",
       "      <th>6</th>\n",
       "      <td>002540BE89C930FB</td>\n",
       "      <td>B</td>\n",
       "      <td>interface_eu_test</td>\n",
       "      <td>Android</td>\n",
       "    </tr>\n",
       "    <tr>\n",
       "      <th>7</th>\n",
       "      <td>0031F1B5E9FBF708</td>\n",
       "      <td>A</td>\n",
       "      <td>interface_eu_test</td>\n",
       "      <td>Android</td>\n",
       "    </tr>\n",
       "    <tr>\n",
       "      <th>8</th>\n",
       "      <td>003346BB64227D0C</td>\n",
       "      <td>B</td>\n",
       "      <td>interface_eu_test</td>\n",
       "      <td>Android</td>\n",
       "    </tr>\n",
       "    <tr>\n",
       "      <th>9</th>\n",
       "      <td>00341D8401F0F665</td>\n",
       "      <td>A</td>\n",
       "      <td>recommender_system_test</td>\n",
       "      <td>iPhone</td>\n",
       "    </tr>\n",
       "  </tbody>\n",
       "</table>\n",
       "</div>"
      ],
      "text/plain": [
       "            user_id group                  ab_test   device\n",
       "0  0002CE61FF2C4011     B        interface_eu_test      Mac\n",
       "1  001064FEAAB631A1     B  recommender_system_test  Android\n",
       "2  001064FEAAB631A1     A        interface_eu_test  Android\n",
       "3  0010A1C096941592     A  recommender_system_test  Android\n",
       "4  001E72F50D1C48FA     A        interface_eu_test      Mac\n",
       "5  002412F1EB3F6E38     B        interface_eu_test      Mac\n",
       "6  002540BE89C930FB     B        interface_eu_test  Android\n",
       "7  0031F1B5E9FBF708     A        interface_eu_test  Android\n",
       "8  003346BB64227D0C     B        interface_eu_test  Android\n",
       "9  00341D8401F0F665     A  recommender_system_test   iPhone"
      ]
     },
     "execution_count": 4,
     "metadata": {},
     "output_type": "execute_result"
    }
   ],
   "source": [
    "participants.info()\n",
    "\n",
    "participants.head(10)"
   ]
  },
  {
   "cell_type": "markdown",
   "id": "669bbce6",
   "metadata": {},
   "source": [
    "Данные анализа достаточны и целостностны. Пропуски отсутствуют. Проверим наличие дубликатов:"
   ]
  },
  {
   "cell_type": "code",
   "execution_count": 5,
   "id": "111b2e5f",
   "metadata": {},
   "outputs": [
    {
     "name": "stdout",
     "output_type": "stream",
     "text": [
      "Empty DataFrame\n",
      "Columns: [user_id, group, ab_test, device]\n",
      "Index: []\n"
     ]
    }
   ],
   "source": [
    "duplicates_mask = participants.duplicated()\n",
    "duplicated_rows = participants[duplicates_mask]\n",
    "print(duplicated_rows)"
   ]
  },
  {
   "cell_type": "markdown",
   "id": "1e4913d2",
   "metadata": {},
   "source": [
    "Дубликаты отсутствуют."
   ]
  },
  {
   "cell_type": "code",
   "execution_count": 6,
   "id": "b581ba21",
   "metadata": {},
   "outputs": [
    {
     "name": "stdout",
     "output_type": "stream",
     "text": [
      "<class 'pandas.core.frame.DataFrame'>\n",
      "RangeIndex: 787286 entries, 0 to 787285\n",
      "Data columns (total 4 columns):\n",
      " #   Column      Non-Null Count   Dtype         \n",
      "---  ------      --------------   -----         \n",
      " 0   user_id     787286 non-null  object        \n",
      " 1   event_dt    787286 non-null  datetime64[ns]\n",
      " 2   event_name  787286 non-null  object        \n",
      " 3   details     249022 non-null  object        \n",
      "dtypes: datetime64[ns](1), object(3)\n",
      "memory usage: 24.0+ MB\n"
     ]
    },
    {
     "data": {
      "text/html": [
       "<div>\n",
       "<style scoped>\n",
       "    .dataframe tbody tr th:only-of-type {\n",
       "        vertical-align: middle;\n",
       "    }\n",
       "\n",
       "    .dataframe tbody tr th {\n",
       "        vertical-align: top;\n",
       "    }\n",
       "\n",
       "    .dataframe thead th {\n",
       "        text-align: right;\n",
       "    }\n",
       "</style>\n",
       "<table border=\"1\" class=\"dataframe\">\n",
       "  <thead>\n",
       "    <tr style=\"text-align: right;\">\n",
       "      <th></th>\n",
       "      <th>user_id</th>\n",
       "      <th>event_dt</th>\n",
       "      <th>event_name</th>\n",
       "      <th>details</th>\n",
       "    </tr>\n",
       "  </thead>\n",
       "  <tbody>\n",
       "    <tr>\n",
       "      <th>0</th>\n",
       "      <td>GLOBAL</td>\n",
       "      <td>2020-12-01 00:00:00</td>\n",
       "      <td>End of Black Friday Ads Campaign</td>\n",
       "      <td>ZONE_CODE15</td>\n",
       "    </tr>\n",
       "    <tr>\n",
       "      <th>1</th>\n",
       "      <td>CCBE9E7E99F94A08</td>\n",
       "      <td>2020-12-01 00:00:11</td>\n",
       "      <td>registration</td>\n",
       "      <td>0.0</td>\n",
       "    </tr>\n",
       "    <tr>\n",
       "      <th>2</th>\n",
       "      <td>GLOBAL</td>\n",
       "      <td>2020-12-01 00:00:25</td>\n",
       "      <td>product_page</td>\n",
       "      <td>NaN</td>\n",
       "    </tr>\n",
       "    <tr>\n",
       "      <th>3</th>\n",
       "      <td>CCBE9E7E99F94A08</td>\n",
       "      <td>2020-12-01 00:00:33</td>\n",
       "      <td>login</td>\n",
       "      <td>NaN</td>\n",
       "    </tr>\n",
       "    <tr>\n",
       "      <th>4</th>\n",
       "      <td>CCBE9E7E99F94A08</td>\n",
       "      <td>2020-12-01 00:00:52</td>\n",
       "      <td>product_page</td>\n",
       "      <td>NaN</td>\n",
       "    </tr>\n",
       "    <tr>\n",
       "      <th>5</th>\n",
       "      <td>AA346F4D22148024</td>\n",
       "      <td>2020-12-01 00:01:46</td>\n",
       "      <td>registration</td>\n",
       "      <td>-2.0</td>\n",
       "    </tr>\n",
       "    <tr>\n",
       "      <th>6</th>\n",
       "      <td>7EF01D0E72AF449D</td>\n",
       "      <td>2020-12-01 00:02:06</td>\n",
       "      <td>registration</td>\n",
       "      <td>-5.0</td>\n",
       "    </tr>\n",
       "    <tr>\n",
       "      <th>7</th>\n",
       "      <td>9A6276AD14B14252</td>\n",
       "      <td>2020-12-01 00:02:20</td>\n",
       "      <td>registration</td>\n",
       "      <td>-2.0</td>\n",
       "    </tr>\n",
       "    <tr>\n",
       "      <th>8</th>\n",
       "      <td>9B186A3B1A995D36</td>\n",
       "      <td>2020-12-01 00:02:37</td>\n",
       "      <td>registration</td>\n",
       "      <td>-3.5</td>\n",
       "    </tr>\n",
       "    <tr>\n",
       "      <th>9</th>\n",
       "      <td>9A6276AD14B14252</td>\n",
       "      <td>2020-12-01 00:02:53</td>\n",
       "      <td>login</td>\n",
       "      <td>NaN</td>\n",
       "    </tr>\n",
       "  </tbody>\n",
       "</table>\n",
       "</div>"
      ],
      "text/plain": [
       "            user_id            event_dt                        event_name  \\\n",
       "0            GLOBAL 2020-12-01 00:00:00  End of Black Friday Ads Campaign   \n",
       "1  CCBE9E7E99F94A08 2020-12-01 00:00:11                      registration   \n",
       "2            GLOBAL 2020-12-01 00:00:25                      product_page   \n",
       "3  CCBE9E7E99F94A08 2020-12-01 00:00:33                             login   \n",
       "4  CCBE9E7E99F94A08 2020-12-01 00:00:52                      product_page   \n",
       "5  AA346F4D22148024 2020-12-01 00:01:46                      registration   \n",
       "6  7EF01D0E72AF449D 2020-12-01 00:02:06                      registration   \n",
       "7  9A6276AD14B14252 2020-12-01 00:02:20                      registration   \n",
       "8  9B186A3B1A995D36 2020-12-01 00:02:37                      registration   \n",
       "9  9A6276AD14B14252 2020-12-01 00:02:53                             login   \n",
       "\n",
       "       details  \n",
       "0  ZONE_CODE15  \n",
       "1          0.0  \n",
       "2          NaN  \n",
       "3          NaN  \n",
       "4          NaN  \n",
       "5         -2.0  \n",
       "6         -5.0  \n",
       "7         -2.0  \n",
       "8         -3.5  \n",
       "9          NaN  "
      ]
     },
     "execution_count": 6,
     "metadata": {},
     "output_type": "execute_result"
    }
   ],
   "source": [
    "events.info()\n",
    "\n",
    "events.head(10)"
   ]
  },
  {
   "cell_type": "markdown",
   "id": "bae3ce2f",
   "metadata": {},
   "source": [
    " Данные анализа достаточны и целостностны. Данные отсутвуют только в столбце details, что является допустимым. Проверим наличие дубликатов."
   ]
  },
  {
   "cell_type": "code",
   "execution_count": 7,
   "id": "43168efa",
   "metadata": {},
   "outputs": [
    {
     "name": "stdout",
     "output_type": "stream",
     "text": [
      "\n",
      "Сами повторяющиеся строки:\n",
      "                 user_id            event_dt    event_name details\n",
      "50      A39D63750BBE9B34 2020-12-01 00:08:24         login     NaN\n",
      "132     631020621D23464A 2020-12-01 00:25:03         login     NaN\n",
      "278     AD6541E75198ABEF 2020-12-01 00:48:46         login     NaN\n",
      "390     ADBBC43BED1249C8 2020-12-01 01:06:02  product_cart     NaN\n",
      "446     928AD890A8E7BDE7 2020-12-01 01:11:10         login     NaN\n",
      "...                  ...                 ...           ...     ...\n",
      "787141            GLOBAL 2020-12-31 23:21:18      purchase    4.49\n",
      "787200            GLOBAL 2020-12-31 23:36:55      purchase    4.49\n",
      "787209            GLOBAL 2020-12-31 23:39:41  product_cart     NaN\n",
      "787217  F9C2F1ECC9624248 2020-12-31 23:42:17  product_page     NaN\n",
      "787263            GLOBAL 2020-12-31 23:53:42      purchase    4.49\n",
      "\n",
      "[36318 rows x 4 columns]\n",
      "\n",
      "Общее количество строк: 787286\n",
      "Количество дубликатов (вторые и последующие вхождения): 36318\n",
      "Процент дубликатов: 4.61%\n"
     ]
    }
   ],
   "source": [
    "# Находим дубликаты\n",
    "duplicates_mask = events.duplicated()\n",
    "duplicated_rows = events[duplicates_mask]\n",
    "\n",
    "# Выводим количество дубликатов\n",
    "num_duplicates = events.duplicated().sum()\n",
    "\n",
    "# Выводим сами повторяющиеся строки\n",
    "print(\"\\nСами повторяющиеся строки:\")\n",
    "print(duplicated_rows)\n",
    "\n",
    "# Рассчитаем общее количество строк\n",
    "total_rows = len(events)\n",
    "\n",
    "# Рассчитаем процент дубликатов\n",
    "percentage_duplicates = (num_duplicates / total_rows) * 100\n",
    "print(f\"\\nОбщее количество строк: {total_rows}\")\n",
    "print(f\"Количество дубликатов (вторые и последующие вхождения): {num_duplicates}\")\n",
    "print(f\"Процент дубликатов: {percentage_duplicates:.2f}%\")"
   ]
  },
  {
   "cell_type": "markdown",
   "id": "65411554",
   "metadata": {},
   "source": [
    "Менее 5% данных являются полными дубликатами. Удалим их из анализа."
   ]
  },
  {
   "cell_type": "code",
   "execution_count": 8,
   "id": "ccb51b77",
   "metadata": {},
   "outputs": [],
   "source": [
    "events_no_duplicates = events.drop_duplicates()"
   ]
  },
  {
   "cell_type": "markdown",
   "id": "e080759a",
   "metadata": {},
   "source": [
    "## 3. По таблице `ab_test_participants` оцените корректность проведения теста:\n",
    "\n",
    "   3\\.1 Выделите пользователей, участвующих в тесте, и проверьте:\n",
    "\n",
    "   - соответствие требованиям технического задания,\n",
    "\n",
    "   - равномерность распределения пользователей по группам теста,\n",
    "\n",
    "   - отсутствие пересечений с конкурирующим тестом (нет пользователей, участвующих одновременно в двух тестовых группах)."
   ]
  },
  {
   "cell_type": "markdown",
   "id": "3d5417aa",
   "metadata": {},
   "source": [
    "Мы проверяем следующую гипотезу: упрощение интерфейса приведёт к тому, что в течение семи дней после регистрации в системе конверсия зарегистрированных пользователей в покупателей увеличится как минимум на три процентных пункта."
   ]
  },
  {
   "cell_type": "code",
   "execution_count": 9,
   "id": "b8cdb29c",
   "metadata": {},
   "outputs": [
    {
     "data": {
      "text/html": [
       "<div>\n",
       "<style scoped>\n",
       "    .dataframe tbody tr th:only-of-type {\n",
       "        vertical-align: middle;\n",
       "    }\n",
       "\n",
       "    .dataframe tbody tr th {\n",
       "        vertical-align: top;\n",
       "    }\n",
       "\n",
       "    .dataframe thead th {\n",
       "        text-align: right;\n",
       "    }\n",
       "</style>\n",
       "<table border=\"1\" class=\"dataframe\">\n",
       "  <thead>\n",
       "    <tr style=\"text-align: right;\">\n",
       "      <th></th>\n",
       "      <th>user_id</th>\n",
       "      <th>group</th>\n",
       "      <th>ab_test</th>\n",
       "      <th>device</th>\n",
       "    </tr>\n",
       "  </thead>\n",
       "  <tbody>\n",
       "    <tr>\n",
       "      <th>0</th>\n",
       "      <td>0002CE61FF2C4011</td>\n",
       "      <td>B</td>\n",
       "      <td>interface_eu_test</td>\n",
       "      <td>Mac</td>\n",
       "    </tr>\n",
       "    <tr>\n",
       "      <th>1</th>\n",
       "      <td>001064FEAAB631A1</td>\n",
       "      <td>B</td>\n",
       "      <td>recommender_system_test</td>\n",
       "      <td>Android</td>\n",
       "    </tr>\n",
       "    <tr>\n",
       "      <th>2</th>\n",
       "      <td>001064FEAAB631A1</td>\n",
       "      <td>A</td>\n",
       "      <td>interface_eu_test</td>\n",
       "      <td>Android</td>\n",
       "    </tr>\n",
       "    <tr>\n",
       "      <th>3</th>\n",
       "      <td>0010A1C096941592</td>\n",
       "      <td>A</td>\n",
       "      <td>recommender_system_test</td>\n",
       "      <td>Android</td>\n",
       "    </tr>\n",
       "    <tr>\n",
       "      <th>4</th>\n",
       "      <td>001E72F50D1C48FA</td>\n",
       "      <td>A</td>\n",
       "      <td>interface_eu_test</td>\n",
       "      <td>Mac</td>\n",
       "    </tr>\n",
       "  </tbody>\n",
       "</table>\n",
       "</div>"
      ],
      "text/plain": [
       "            user_id group                  ab_test   device\n",
       "0  0002CE61FF2C4011     B        interface_eu_test      Mac\n",
       "1  001064FEAAB631A1     B  recommender_system_test  Android\n",
       "2  001064FEAAB631A1     A        interface_eu_test  Android\n",
       "3  0010A1C096941592     A  recommender_system_test  Android\n",
       "4  001E72F50D1C48FA     A        interface_eu_test      Mac"
      ]
     },
     "execution_count": 9,
     "metadata": {},
     "output_type": "execute_result"
    }
   ],
   "source": [
    "participants.head()"
   ]
  },
  {
   "cell_type": "code",
   "execution_count": 10,
   "id": "bc1ea94a",
   "metadata": {},
   "outputs": [
    {
     "name": "stdout",
     "output_type": "stream",
     "text": [
      "Размер пересечения: 0\n",
      "Пользователи в пересечении: []\n"
     ]
    }
   ],
   "source": [
    "# Оценим распределения пользователей по группам \n",
    "A = participants[(participants['ab_test'] == 'interface_eu_test') & (participants['group'] == 'A')]['user_id']\n",
    "\n",
    "B = participants[(participants['ab_test'] == 'interface_eu_test') & (participants['group'] == 'B')]['user_id']\n",
    "\n",
    "intersection = list(set(A) & set(B))\n",
    "print(f\"Размер пересечения: {len(intersection)}\")\n",
    "print(f\"Пользователи в пересечении: {intersection}\")"
   ]
  },
  {
   "cell_type": "markdown",
   "id": "fded5250",
   "metadata": {},
   "source": [
    "Пересечения пользователей в группах нет, группы являются независимыми."
   ]
  },
  {
   "cell_type": "code",
   "execution_count": 11,
   "id": "086db60c",
   "metadata": {},
   "outputs": [
    {
     "name": "stdout",
     "output_type": "stream",
     "text": [
      "Размер пересечения: 887\n"
     ]
    }
   ],
   "source": [
    "# Оценим отсутствие пересечений с конкурирующим тестом \n",
    "eu_test = participants[participants['ab_test'] == 'interface_eu_test']['user_id']\n",
    "\n",
    "system_test = participants[participants['ab_test'] == 'recommender_system_test']['user_id']\n",
    "\n",
    "intersection = list(set(eu_test) & set(system_test))\n",
    "print(f\"Размер пересечения: {len(intersection)}\")"
   ]
  },
  {
   "cell_type": "markdown",
   "id": "023528a9",
   "metadata": {},
   "source": [
    "В данных присутствуют пользователи, участвовавшие одновременно в двух тестах. Оценим размер групп в нашем тесте и удалим этих пересекающихся пользователей."
   ]
  },
  {
   "cell_type": "code",
   "execution_count": 12,
   "id": "ea08edb6",
   "metadata": {},
   "outputs": [
    {
     "name": "stdout",
     "output_type": "stream",
     "text": [
      "Размер группы А интересующего теста (до удаления): 5383\n",
      "Размер группы B интересующего теста (до удаления): 5467\n",
      "Размер группы А (после удаления пересечений): 4952\n",
      "Размер группы B (после удаления пересечений): 5011\n"
     ]
    }
   ],
   "source": [
    "print(f\"Размер группы А интересующего теста (до удаления): {len(A)}\")\n",
    "print(f\"Размер группы B интересующего теста (до удаления): {len(B)}\")\n",
    "\n",
    "# Удаляем пересекающихся пользователей \n",
    "users_to_exclude_set = set(intersection) \n",
    "eu_test_cleaned_df = participants[\n",
    "    (~participants['user_id'].isin(users_to_exclude_set)) & \n",
    "    (participants['ab_test'] == 'interface_eu_test')  ]\n",
    "\n",
    "A_cleaned = eu_test_cleaned_df[eu_test_cleaned_df['group'] == 'A']['user_id']\n",
    "\n",
    "B_cleaned = eu_test_cleaned_df[eu_test_cleaned_df['group'] == 'B']['user_id']\n",
    "\n",
    "# Выводим размеров групп после удаления пересечений\n",
    "print(f\"Размер группы А (после удаления пересечений): {len(A_cleaned)}\")\n",
    "print(f\"Размер группы B (после удаления пересечений): {len(B_cleaned)}\")"
   ]
  },
  {
   "cell_type": "markdown",
   "id": "bda4479e",
   "metadata": {},
   "source": [
    "Полученные после обработки данные показывают, что группы распределены равномерно."
   ]
  },
  {
   "cell_type": "markdown",
   "id": "9aec62f7",
   "metadata": {},
   "source": [
    "3\\.2 Проанализируйте данные о пользовательской активности по таблице `ab_test_events`:\n",
    "\n",
    "- оставьте только события, связанные с участвующими в изучаемом тесте пользователями;"
   ]
  },
  {
   "cell_type": "code",
   "execution_count": 13,
   "id": "dd3006c1",
   "metadata": {},
   "outputs": [
    {
     "name": "stdout",
     "output_type": "stream",
     "text": [
      "<class 'pandas.core.frame.DataFrame'>\n",
      "Int64Index: 73815 entries, 64672 to 780371\n",
      "Data columns (total 4 columns):\n",
      " #   Column      Non-Null Count  Dtype         \n",
      "---  ------      --------------  -----         \n",
      " 0   user_id     73815 non-null  object        \n",
      " 1   event_dt    73815 non-null  datetime64[ns]\n",
      " 2   event_name  73815 non-null  object        \n",
      " 3   details     19450 non-null  object        \n",
      "dtypes: datetime64[ns](1), object(3)\n",
      "memory usage: 2.8+ MB\n"
     ]
    }
   ],
   "source": [
    "# Извлекаем user_id всех пользователей изучаемого теста \n",
    "participating_user_ids = eu_test_cleaned_df['user_id'].unique()\n",
    "\n",
    "# Фильтруем ab_test_events, оставляя только нужных пользователей\n",
    "events_filtered = events[events['user_id'].isin(participating_user_ids)]\n",
    "\n",
    "events_filtered.info()"
   ]
  },
  {
   "cell_type": "markdown",
   "id": "1c73a4b9",
   "metadata": {},
   "source": [
    "- определите горизонт анализа: рассчитайте время (лайфтайм) совершения события пользователем после регистрации и оставьте только те события, которые были выполнены в течение первых семи дней с момента регистрации;"
   ]
  },
  {
   "cell_type": "code",
   "execution_count": 14,
   "id": "e7e254e1",
   "metadata": {},
   "outputs": [
    {
     "data": {
      "text/plain": [
       "array(['registration', 'login', 'product_page', 'purchase',\n",
       "       'product_cart'], dtype=object)"
      ]
     },
     "execution_count": 14,
     "metadata": {},
     "output_type": "execute_result"
    }
   ],
   "source": [
    "# Выведем все уникальные события для пользователей\n",
    "events_filtered['event_name'].unique()\n"
   ]
  },
  {
   "cell_type": "code",
   "execution_count": 16,
   "id": "e79d8c85",
   "metadata": {},
   "outputs": [
    {
     "data": {
      "text/html": [
       "<div>\n",
       "<style scoped>\n",
       "    .dataframe tbody tr th:only-of-type {\n",
       "        vertical-align: middle;\n",
       "    }\n",
       "\n",
       "    .dataframe tbody tr th {\n",
       "        vertical-align: top;\n",
       "    }\n",
       "\n",
       "    .dataframe thead th {\n",
       "        text-align: right;\n",
       "    }\n",
       "</style>\n",
       "<table border=\"1\" class=\"dataframe\">\n",
       "  <thead>\n",
       "    <tr style=\"text-align: right;\">\n",
       "      <th></th>\n",
       "      <th>user_id</th>\n",
       "      <th>event_dt</th>\n",
       "      <th>event_name</th>\n",
       "      <th>details</th>\n",
       "      <th>registration_dt</th>\n",
       "      <th>lifetime_days</th>\n",
       "    </tr>\n",
       "  </thead>\n",
       "  <tbody>\n",
       "    <tr>\n",
       "      <th>0</th>\n",
       "      <td>5F506CEBEDC05D30</td>\n",
       "      <td>2020-12-06 14:10:01</td>\n",
       "      <td>registration</td>\n",
       "      <td>0.0</td>\n",
       "      <td>2020-12-06 14:10:01</td>\n",
       "      <td>0</td>\n",
       "    </tr>\n",
       "    <tr>\n",
       "      <th>1</th>\n",
       "      <td>51278A006E918D97</td>\n",
       "      <td>2020-12-06 14:37:25</td>\n",
       "      <td>registration</td>\n",
       "      <td>-3.8</td>\n",
       "      <td>2020-12-06 14:37:25</td>\n",
       "      <td>0</td>\n",
       "    </tr>\n",
       "    <tr>\n",
       "      <th>2</th>\n",
       "      <td>A0C1E8EFAD874D8B</td>\n",
       "      <td>2020-12-06 17:20:22</td>\n",
       "      <td>registration</td>\n",
       "      <td>-3.32</td>\n",
       "      <td>2020-12-06 17:20:22</td>\n",
       "      <td>0</td>\n",
       "    </tr>\n",
       "    <tr>\n",
       "      <th>3</th>\n",
       "      <td>275A8D6254ACF530</td>\n",
       "      <td>2020-12-06 19:36:54</td>\n",
       "      <td>registration</td>\n",
       "      <td>-0.48</td>\n",
       "      <td>2020-12-06 19:36:54</td>\n",
       "      <td>0</td>\n",
       "    </tr>\n",
       "    <tr>\n",
       "      <th>4</th>\n",
       "      <td>0B704EB2DC7FCA4B</td>\n",
       "      <td>2020-12-06 19:42:20</td>\n",
       "      <td>registration</td>\n",
       "      <td>0.0</td>\n",
       "      <td>2020-12-06 19:42:20</td>\n",
       "      <td>0</td>\n",
       "    </tr>\n",
       "  </tbody>\n",
       "</table>\n",
       "</div>"
      ],
      "text/plain": [
       "            user_id            event_dt    event_name details  \\\n",
       "0  5F506CEBEDC05D30 2020-12-06 14:10:01  registration     0.0   \n",
       "1  51278A006E918D97 2020-12-06 14:37:25  registration    -3.8   \n",
       "2  A0C1E8EFAD874D8B 2020-12-06 17:20:22  registration   -3.32   \n",
       "3  275A8D6254ACF530 2020-12-06 19:36:54  registration   -0.48   \n",
       "4  0B704EB2DC7FCA4B 2020-12-06 19:42:20  registration     0.0   \n",
       "\n",
       "      registration_dt  lifetime_days  \n",
       "0 2020-12-06 14:10:01              0  \n",
       "1 2020-12-06 14:37:25              0  \n",
       "2 2020-12-06 17:20:22              0  \n",
       "3 2020-12-06 19:36:54              0  \n",
       "4 2020-12-06 19:42:20              0  "
      ]
     },
     "execution_count": 16,
     "metadata": {},
     "output_type": "execute_result"
    }
   ],
   "source": [
    "# Определяем дату регистрации для каждого пользователя \n",
    "registration_dates = events_filtered[events_filtered['event_name'] == 'registration'].groupby('user_id').agg(\n",
    "    registration_dt=('event_dt', 'min') ).reset_index()\n",
    "\n",
    "# Присоединяем дату регистрации к каждому событию пользователя\n",
    "events_with_registration_dt = pd.merge(\n",
    "    events_filtered,\n",
    "    registration_dates,\n",
    "    on='user_id',\n",
    "    how='left'\n",
    ")\n",
    "\n",
    "# Рассчитываем лайфтайм в днях\n",
    "events_with_registration_dt['lifetime_days'] = (\n",
    "    events_with_registration_dt['event_dt'].dt.date - events_with_registration_dt['registration_dt'].dt.date\n",
    ").dt.days\n",
    "\n",
    "# Оставляем только те события, которые были выполнены в течение первых семи дней\n",
    "events_within_7_days = events_with_registration_dt[events_with_registration_dt['lifetime_days'] <= 7].copy()\n",
    "\n",
    "events_within_7_days.head()"
   ]
  },
  {
   "cell_type": "markdown",
   "id": "a9992e1f",
   "metadata": {},
   "source": [
    "Оцените достаточность выборки для получения статистически значимых результатов A/B-теста. Заданные параметры:\n",
    "\n",
    "- базовый показатель конверсии — 30%,\n",
    "\n",
    "- мощность теста — 80%,\n",
    "\n",
    "- достоверность теста — 95%.\n"
   ]
  },
  {
   "cell_type": "code",
   "execution_count": 18,
   "id": "b846b882",
   "metadata": {},
   "outputs": [
    {
     "name": "stdout",
     "output_type": "stream",
     "text": [
      "\n",
      "Необходимый размер выборки для каждой группы: 3761\n",
      "Общий необходимый размер выборки для теста: 7523\n",
      "\n",
      "Предоставленный размер группы А: 4952\n",
      "Предоставленный размеразмер группы B: 5011\n",
      "\n",
      "Вывод: полученной выборки достаточно для проведения статистической оценки\n"
     ]
    }
   ],
   "source": [
    "# Заданные параметры\n",
    "p1 = 0.30  # Базовая конверсия\n",
    "p2 = p1 + 0.03  # Целевая конверсия (p1 + MDE, составляющий три процентных пункта согласно исходной гипотезе)\n",
    "alpha = 0.05  # Уровень значимости (для 95% достоверности)\n",
    "power = 0.80  # Мощность теста\n",
    "\n",
    "# Рассчитываем размер эффекта (Cohen's h)\n",
    "effect_size = 2 * (np.arcsin(np.sqrt(p2)) - np.arcsin(np.sqrt(p1)))\n",
    "\n",
    "# Инициализируем класс NormalIndPower\n",
    "power_analysis = NormalIndPower()\n",
    "\n",
    "# Рассчитываем размер выборки\n",
    "sample_size = power_analysis.solve_power(\n",
    "    effect_size=effect_size,\n",
    "    alpha=alpha,\n",
    "    power=power,\n",
    "    ratio=1,  # Равномерное распределение выборок\n",
    ")\n",
    "\n",
    "print(f\"\\nНеобходимый размер выборки для каждой группы: {int(sample_size)}\")\n",
    "print(f\"Общий необходимый размер выборки для теста: {int(sample_size * 2)}\")\n",
    "print(f\"\\nПредоставленный размер группы А: {len(A_cleaned)}\")\n",
    "print(f\"Предоставленный размеразмер группы B: {len(B_cleaned)}\")\n",
    "print(f\"\\nВывод: полученной выборки достаточно для проведения статистической оценки\")"
   ]
  },
  {
   "cell_type": "markdown",
   "id": "b6392499",
   "metadata": {},
   "source": [
    "- рассчитайте для каждой группы количество посетителей, сделавших покупку, и общее количество посетителей."
   ]
  },
  {
   "cell_type": "code",
   "execution_count": 19,
   "id": "1c7a7809",
   "metadata": {},
   "outputs": [
    {
     "data": {
      "text/html": [
       "<div>\n",
       "<style scoped>\n",
       "    .dataframe tbody tr th:only-of-type {\n",
       "        vertical-align: middle;\n",
       "    }\n",
       "\n",
       "    .dataframe tbody tr th {\n",
       "        vertical-align: top;\n",
       "    }\n",
       "\n",
       "    .dataframe thead th {\n",
       "        text-align: right;\n",
       "    }\n",
       "</style>\n",
       "<table border=\"1\" class=\"dataframe\">\n",
       "  <thead>\n",
       "    <tr style=\"text-align: right;\">\n",
       "      <th></th>\n",
       "      <th>user_id</th>\n",
       "      <th>group</th>\n",
       "      <th>ab_test</th>\n",
       "      <th>device</th>\n",
       "      <th>event_dt</th>\n",
       "      <th>event_name</th>\n",
       "      <th>details</th>\n",
       "      <th>registration_dt</th>\n",
       "      <th>lifetime_days</th>\n",
       "    </tr>\n",
       "  </thead>\n",
       "  <tbody>\n",
       "    <tr>\n",
       "      <th>0</th>\n",
       "      <td>0002CE61FF2C4011</td>\n",
       "      <td>B</td>\n",
       "      <td>interface_eu_test</td>\n",
       "      <td>Mac</td>\n",
       "      <td>2020-12-07 04:37:31</td>\n",
       "      <td>registration</td>\n",
       "      <td>-2.38</td>\n",
       "      <td>2020-12-07 04:37:31</td>\n",
       "      <td>0</td>\n",
       "    </tr>\n",
       "    <tr>\n",
       "      <th>1</th>\n",
       "      <td>0002CE61FF2C4011</td>\n",
       "      <td>B</td>\n",
       "      <td>interface_eu_test</td>\n",
       "      <td>Mac</td>\n",
       "      <td>2020-12-07 04:37:49</td>\n",
       "      <td>login</td>\n",
       "      <td>NaN</td>\n",
       "      <td>2020-12-07 04:37:31</td>\n",
       "      <td>0</td>\n",
       "    </tr>\n",
       "    <tr>\n",
       "      <th>2</th>\n",
       "      <td>0002CE61FF2C4011</td>\n",
       "      <td>B</td>\n",
       "      <td>interface_eu_test</td>\n",
       "      <td>Mac</td>\n",
       "      <td>2020-12-07 04:37:57</td>\n",
       "      <td>login</td>\n",
       "      <td>NaN</td>\n",
       "      <td>2020-12-07 04:37:31</td>\n",
       "      <td>0</td>\n",
       "    </tr>\n",
       "    <tr>\n",
       "      <th>3</th>\n",
       "      <td>0002CE61FF2C4011</td>\n",
       "      <td>B</td>\n",
       "      <td>interface_eu_test</td>\n",
       "      <td>Mac</td>\n",
       "      <td>2020-12-07 04:38:54</td>\n",
       "      <td>login</td>\n",
       "      <td>NaN</td>\n",
       "      <td>2020-12-07 04:37:31</td>\n",
       "      <td>0</td>\n",
       "    </tr>\n",
       "    <tr>\n",
       "      <th>4</th>\n",
       "      <td>0002CE61FF2C4011</td>\n",
       "      <td>B</td>\n",
       "      <td>interface_eu_test</td>\n",
       "      <td>Mac</td>\n",
       "      <td>2020-12-08 22:15:35</td>\n",
       "      <td>login</td>\n",
       "      <td>NaN</td>\n",
       "      <td>2020-12-07 04:37:31</td>\n",
       "      <td>1</td>\n",
       "    </tr>\n",
       "  </tbody>\n",
       "</table>\n",
       "</div>"
      ],
      "text/plain": [
       "            user_id group            ab_test device            event_dt  \\\n",
       "0  0002CE61FF2C4011     B  interface_eu_test    Mac 2020-12-07 04:37:31   \n",
       "1  0002CE61FF2C4011     B  interface_eu_test    Mac 2020-12-07 04:37:49   \n",
       "2  0002CE61FF2C4011     B  interface_eu_test    Mac 2020-12-07 04:37:57   \n",
       "3  0002CE61FF2C4011     B  interface_eu_test    Mac 2020-12-07 04:38:54   \n",
       "4  0002CE61FF2C4011     B  interface_eu_test    Mac 2020-12-08 22:15:35   \n",
       "\n",
       "     event_name details     registration_dt  lifetime_days  \n",
       "0  registration   -2.38 2020-12-07 04:37:31              0  \n",
       "1         login     NaN 2020-12-07 04:37:31              0  \n",
       "2         login     NaN 2020-12-07 04:37:31              0  \n",
       "3         login     NaN 2020-12-07 04:37:31              0  \n",
       "4         login     NaN 2020-12-07 04:37:31              1  "
      ]
     },
     "execution_count": 19,
     "metadata": {},
     "output_type": "execute_result"
    }
   ],
   "source": [
    "# Соединяем обе таблицы\n",
    "merged_df = pd.merge(\n",
    "    eu_test_cleaned_df,\n",
    "    events_within_7_days,\n",
    "    on='user_id',\n",
    "    how='left'\n",
    ")\n",
    "\n",
    "merged_df.head()"
   ]
  },
  {
   "cell_type": "code",
   "execution_count": 20,
   "id": "6e66d450",
   "metadata": {},
   "outputs": [
    {
     "name": "stdout",
     "output_type": "stream",
     "text": [
      "\n",
      "--- Общее количество посетителей в каждой группе ---\n",
      "group\n",
      "A    4952\n",
      "B    5011\n",
      "Name: user_id, dtype: int64\n",
      "\n",
      "--- Количество посетителей, сделавших покупку, в каждой группе ---\n",
      "group\n",
      "A    1411\n",
      "B    1519\n",
      "Name: user_id, dtype: int64\n"
     ]
    }
   ],
   "source": [
    "# Общее количество посетителей (уникальных user_id) для каждой группы\n",
    "total_visitors_per_group = merged_df.groupby('group')['user_id'].nunique()\n",
    "print(\"\\n--- Общее количество посетителей в каждой группе ---\")\n",
    "print(total_visitors_per_group)\n",
    "\n",
    "# Количество посетителей, сделавших покупку (уникальных user_id с event_name == 'purchase')\n",
    "purchases_df = merged_df[merged_df['event_name'] == 'purchase']\n",
    "\n",
    "purchasers_per_group = purchases_df.groupby('group')['user_id'].nunique()\n",
    "print(\"\\n--- Количество посетителей, сделавших покупку, в каждой группе ---\")\n",
    "print(purchasers_per_group)\n"
   ]
  },
  {
   "cell_type": "code",
   "execution_count": 21,
   "id": "da74c695",
   "metadata": {},
   "outputs": [
    {
     "name": "stdout",
     "output_type": "stream",
     "text": [
      "Группа 'A':\n",
      "  Всего посетителей: 4952\n",
      "  Покупателей: 1411\n",
      "  Конверсия: 28.49%\n",
      "Группа 'B':\n",
      "  Всего посетителей: 5011\n",
      "  Покупателей: 1519\n",
      "  Конверсия: 30.31%\n"
     ]
    }
   ],
   "source": [
    "# Расчет и вывод конверсии для каждой группы  \n",
    "for group_name in total_visitors_per_group.index:\n",
    "    total = total_visitors_per_group[group_name]\n",
    "    purchasers = purchasers_per_group[group_name] \n",
    "\n",
    "    conversion_rate = (purchasers / total) * 100\n",
    "    print(f\"Группа '{group_name}':\")\n",
    "    print(f\"  Всего посетителей: {total}\")\n",
    "    print(f\"  Покупателей: {purchasers}\")\n",
    "    print(f\"  Конверсия: {conversion_rate:.2f}%\")"
   ]
  },
  {
   "cell_type": "markdown",
   "id": "7eb9374a",
   "metadata": {},
   "source": [
    "- сделайте предварительный общий вывод об изменении пользовательской активности в тестовой группе по сравнению с контрольной."
   ]
  },
  {
   "cell_type": "markdown",
   "id": "d7451466",
   "metadata": {},
   "source": [
    "Согласно полученным результатам, наблюдается увеличение конверсии с тестовой группе по сравнению с контрольной (с 28.5 до 30.3%). Необходимо оценить, является ли такое изменение статистически значимым."
   ]
  },
  {
   "cell_type": "markdown",
   "id": "a0a417b0",
   "metadata": {},
   "source": [
    "## 4. Проведите оценку результатов A/B-тестирования:"
   ]
  },
  {
   "cell_type": "markdown",
   "id": "1d08f3a5",
   "metadata": {},
   "source": [
    "- Проверьте изменение конверсии подходящим статистическим тестом, учитывая все этапы проверки гипотез."
   ]
  },
  {
   "cell_type": "markdown",
   "id": "e68ab509",
   "metadata": {},
   "source": [
    "Для рассчета статистической значимости используем Z-тест пропорций. \n",
    "\n",
    "Предположим, что нулевая гипотеза формулируется так: нет значимых различий в конверсии пользователей группы А и В.\n",
    "\n",
    "В таком случае альтернативная гипотеза: конверсия в тестовой группе В больше конверсии в контрольной группе А."
   ]
  },
  {
   "cell_type": "code",
   "execution_count": 22,
   "id": "59bac6bf",
   "metadata": {},
   "outputs": [
    {
     "name": "stdout",
     "output_type": "stream",
     "text": [
      "n_a=4952, n_b=5011\n",
      "m_a=1411, m_b=1519\n",
      "p_a=0.2849, p_b=0.3031\n",
      "Предпосылка о достаточном количестве данных выполняется!\n"
     ]
    }
   ],
   "source": [
    "# Размеры выборок А и В\n",
    "n_a = total_visitors_per_group['A']\n",
    "n_b = total_visitors_per_group['B']\n",
    "\n",
    "# Количество успехов (пользователей с покупками) в группах А и В\n",
    "m_a = purchasers_per_group['A']\n",
    "m_b = purchasers_per_group['B']\n",
    "\n",
    "p_a = m_a / n_a  # рассчитываем доли успехов для группы A\n",
    "p_b = m_b / n_b  # рассчитываем доли успехов для группы B\n",
    "\n",
    "print(f'n_a={n_a}, n_b={n_b}')\n",
    "print(f'm_a={m_a}, m_b={m_b}')\n",
    "print(f'p_a={p_a:.4f}, p_b={p_b:.4f}')\n",
    "\n",
    "# Проверка предпосылки о достаточном количестве данных\n",
    "# Условие: количество успехов и неудач в каждой группе должно быть > 10\n",
    "if (m_a > 10) and ((n_a - m_a) > 10) and (m_b > 10) and ((n_b - m_b) > 10):\n",
    "    print('Предпосылка о достаточном количестве данных выполняется!')\n",
    "else:\n",
    "    print('Предпосылка о достаточном количестве данных НЕ выполняется!')"
   ]
  },
  {
   "cell_type": "code",
   "execution_count": 24,
   "id": "5b03001b",
   "metadata": {},
   "outputs": [
    {
     "name": "stdout",
     "output_type": "stream",
     "text": [
      "pvalue=0.023117327881967534 < 0.05\n",
      "Нулевая гипотеза не находит подтверждения!\n",
      "Конверсия в тестовой группе В больше конверсии в контрольной группе А и это различие стастически значимо.\n"
     ]
    }
   ],
   "source": [
    "alpha = 0.05 ## на каком уровне значимости проверяем гипотезу о равенстве вероятностей\n",
    "\n",
    "stat_ztest, p_value_ztest = proportions_ztest(\n",
    "    [m_a, m_b],\n",
    "    [n_a, n_b],\n",
    "    alternative='smaller' # так как H_1: p_a < p_b\n",
    ")\n",
    "p_value_ztest\n",
    "\n",
    "if p_value_ztest > alpha:\n",
    "    print(f'pvalue={p_value_ztest} > {alpha}')\n",
    "    print('Нулевая гипотеза находит подтверждение!')\n",
    "    print('Нет значимых различий в конверсии пользователей группы А и В.')\n",
    "\n",
    "else:\n",
    "    print(f'pvalue={p_value_ztest} < {alpha}')\n",
    "    print('Нулевая гипотеза не находит подтверждения!')\n",
    "    print('Конверсия в тестовой группе В больше конверсии в контрольной группе А и это различие стастически значимо.')"
   ]
  },
  {
   "cell_type": "markdown",
   "id": "e4c03eda",
   "metadata": {},
   "source": [
    "- Опишите выводы по проведённой оценке результатов A/B-тестирования. Что можно сказать про результаты A/B-тестирования? Был ли достигнут ожидаемый эффект в изменении конверсии?"
   ]
  },
  {
   "cell_type": "markdown",
   "id": "eeef66d5",
   "metadata": {},
   "source": [
    "По результатам оценки A/B-тестирования можно сделать следующий вывод: \n",
    "- Исследуемая гипотеза подтвердилась, был достигнут ожидаемый эффект.\n",
    "- Упрощение интерфейса привело к тому, что в течение семи дней после регистрации конверсия зарегистрированных пользователей в покупателей увеличилась, и это изменение статистически значимо."
   ]
  }
 ],
 "metadata": {
  "kernelspec": {
   "display_name": "Python 3 (ipykernel)",
   "language": "python",
   "name": "python3"
  },
  "language_info": {
   "codemirror_mode": {
    "name": "ipython",
    "version": 3
   },
   "file_extension": ".py",
   "mimetype": "text/x-python",
   "name": "python",
   "nbconvert_exporter": "python",
   "pygments_lexer": "ipython3",
   "version": "3.9.7"
  }
 },
 "nbformat": 4,
 "nbformat_minor": 5
}
