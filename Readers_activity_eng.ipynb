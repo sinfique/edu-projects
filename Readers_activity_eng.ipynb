{
 "cells": [
  {
   "cell_type": "markdown",
   "id": "66a7e4c6",
   "metadata": {},
   "source": [
    "**Author**: Chertova Nataliya\n",
    "\n",
    "**Date**: 05.06.2025\n",
    "\n",
    "---\n",
    "\n",
    "## Part 1. Hypothesis Testing in Python and Analytical Report Preparation\n",
    "\n",
    "We preprocessed the data in SQL, and now it's ready for hypothesis testing in Python. Let's load user data from Moscow and St. Petersburg with their total activity hours from the `yandex_knigi_data.csv` file.\n",
    "\n",
    "We will **check for duplicate** user IDs. We'll **compare group sizes**, their statistics, and distribution.\n",
    "\n",
    "Let's test the hypothesis: **users from St. Petersburg spend, on average, more time reading and listening to books in the application than users from Moscow.** We will prove this statistically using a one-sided hypothesis test with two samples:\n",
    "\n",
    "* **Null Hypothesis** $H_0: \\mu_{SPb} \\le \\mu_{Moscow}$\n",
    "    The average activity time of users in St. Petersburg is not greater than in Moscow.\n",
    "* **Alternative Hypothesis** $H_1: \\mu_{SPb} > \\mu_{Moscow}$\n",
    "    The average activity time of users in St. Petersburg is greater, and this difference is statistically significant.\n",
    "\n",
    "Based on the data analysis results, we will **prepare an analytical report** including:\n",
    "\n",
    "* The chosen t-test type and statistical significance level.\n",
    "* Test result, or p-value.\n",
    "* Conclusion based on the obtained p-value, i.e., interpretation of the results.\n",
    "* One or two possible reasons explaining the obtained results.\n",
    "\n",
    "---\n",
    "\n",
    "### Project Goals and Objectives\n",
    "\n",
    "The **project's goal** is to analyze data received from the Yandex Books service and test the hypothesis that users who bring higher LTV are more loyal, and therefore, spend, on average, more time reading and listening to books in the application.\n",
    "\n",
    "The **project objectives** include:\n",
    "\n",
    "* downloading and evaluating the provided data\n",
    "* statistically testing the hypothesis that users who bring higher LTV are more loyal, and therefore, spend, on average, more time reading and listening to books in the application\n",
    "* writing an analytical report with the analysis results\n",
    "\n",
    "---\n",
    "\n",
    "### Data Description\n",
    "\n",
    "The source data is presented in the `yandex_knigi_data.csv` table, containing the following fields:\n",
    "\n",
    "* `Unnamed: 0` - row index\n",
    "* `city` - user's city\n",
    "* `puid` - individual user ID\n",
    "* `hours` - total listening hours per user\n",
    "\n",
    "---\n",
    "\n",
    "### Project Content\n",
    "\n",
    "Below are the main project steps:\n",
    "\n",
    "1.  **Data extraction and preprocessing in SQL.**\n",
    "2.  **Loading data** for hypothesis testing in Python.\n",
    "3.  **Checking for duplicate** user IDs.\n",
    "4.  **Comparing group sizes**, their statistics, and distribution.\n",
    "5.  **Performing statistical analysis** and hypothesis testing: users from St. Petersburg spend, on average, more time reading and listening to books in the application than users from Moscow.\n",
    "6.  **Preparing an analytical report** based on the data analysis results."
   ]
  },
  {
   "cell_type": "markdown",
   "id": "ceec2d59",
   "metadata": {},
   "source": [
    "---\n",
    "\n",
    "## 1. Loading and Exploring Data"
   ]
  },
  {
   "cell_type": "code",
   "execution_count": 56,
   "id": "961f994f",
   "metadata": {},
   "outputs": [],
   "source": [
    "import pandas as pd\n",
    "import matplotlib.pyplot as plt\n",
    "from scipy.stats import ttest_ind\n",
    "import numpy as np\n",
    "from scipy.stats import f_oneway\n",
    "import seaborn as sns"
   ]
  },
  {
   "cell_type": "code",
   "execution_count": 51,
   "id": "4aa907f1",
   "metadata": {},
   "outputs": [
    {
     "data": {
      "text/html": [
       "<div>\n",
       "<style scoped>\n",
       "    .dataframe tbody tr th:only-of-type {\n",
       "        vertical-align: middle;\n",
       "    }\n",
       "\n",
       "    .dataframe tbody tr th {\n",
       "        vertical-align: top;\n",
       "    }\n",
       "\n",
       "    .dataframe thead th {\n",
       "        text-align: right;\n",
       "    }\n",
       "</style>\n",
       "<table border=\"1\" class=\"dataframe\">\n",
       "  <thead>\n",
       "    <tr style=\"text-align: right;\">\n",
       "      <th></th>\n",
       "      <th>Unnamed: 0</th>\n",
       "      <th>city</th>\n",
       "      <th>puid</th>\n",
       "      <th>hours</th>\n",
       "    </tr>\n",
       "  </thead>\n",
       "  <tbody>\n",
       "    <tr>\n",
       "      <th>0</th>\n",
       "      <td>0</td>\n",
       "      <td>Москва</td>\n",
       "      <td>9668</td>\n",
       "      <td>26.167776</td>\n",
       "    </tr>\n",
       "    <tr>\n",
       "      <th>1</th>\n",
       "      <td>1</td>\n",
       "      <td>Москва</td>\n",
       "      <td>16598</td>\n",
       "      <td>82.111217</td>\n",
       "    </tr>\n",
       "    <tr>\n",
       "      <th>2</th>\n",
       "      <td>2</td>\n",
       "      <td>Москва</td>\n",
       "      <td>80401</td>\n",
       "      <td>4.656906</td>\n",
       "    </tr>\n",
       "    <tr>\n",
       "      <th>3</th>\n",
       "      <td>3</td>\n",
       "      <td>Москва</td>\n",
       "      <td>140205</td>\n",
       "      <td>1.840556</td>\n",
       "    </tr>\n",
       "    <tr>\n",
       "      <th>4</th>\n",
       "      <td>4</td>\n",
       "      <td>Москва</td>\n",
       "      <td>248755</td>\n",
       "      <td>151.326434</td>\n",
       "    </tr>\n",
       "  </tbody>\n",
       "</table>\n",
       "</div>"
      ],
      "text/plain": [
       "   Unnamed: 0    city    puid       hours\n",
       "0           0  Москва    9668   26.167776\n",
       "1           1  Москва   16598   82.111217\n",
       "2           2  Москва   80401    4.656906\n",
       "3           3  Москва  140205    1.840556\n",
       "4           4  Москва  248755  151.326434"
      ]
     },
     "execution_count": 51,
     "metadata": {},
     "output_type": "execute_result"
    }
   ],
   "source": [
    "# display the dataframe with the data\n",
    "df = pd.read_csv('https://code.s3.yandex.net/datasets/yandex_knigi_data.csv')\n",
    "df.head(5)"
   ]
  },
  {
   "cell_type": "code",
   "execution_count": 52,
   "id": "9146ea63",
   "metadata": {},
   "outputs": [
    {
     "data": {
      "text/html": [
       "<div>\n",
       "<style scoped>\n",
       "    .dataframe tbody tr th:only-of-type {\n",
       "        vertical-align: middle;\n",
       "    }\n",
       "\n",
       "    .dataframe tbody tr th {\n",
       "        vertical-align: top;\n",
       "    }\n",
       "\n",
       "    .dataframe thead th {\n",
       "        text-align: right;\n",
       "    }\n",
       "</style>\n",
       "<table border=\"1\" class=\"dataframe\">\n",
       "  <thead>\n",
       "    <tr style=\"text-align: right;\">\n",
       "      <th></th>\n",
       "      <th>Unnamed: 0</th>\n",
       "      <th>city</th>\n",
       "      <th>puid</th>\n",
       "      <th>hours</th>\n",
       "    </tr>\n",
       "  </thead>\n",
       "  <tbody>\n",
       "    <tr>\n",
       "      <th>35</th>\n",
       "      <td>35</td>\n",
       "      <td>Москва</td>\n",
       "      <td>2637041</td>\n",
       "      <td>10.317371</td>\n",
       "    </tr>\n",
       "    <tr>\n",
       "      <th>6247</th>\n",
       "      <td>6247</td>\n",
       "      <td>Санкт-Петербург</td>\n",
       "      <td>2637041</td>\n",
       "      <td>3.883926</td>\n",
       "    </tr>\n",
       "    <tr>\n",
       "      <th>134</th>\n",
       "      <td>134</td>\n",
       "      <td>Москва</td>\n",
       "      <td>9979490</td>\n",
       "      <td>32.415573</td>\n",
       "    </tr>\n",
       "    <tr>\n",
       "      <th>6274</th>\n",
       "      <td>6274</td>\n",
       "      <td>Санкт-Петербург</td>\n",
       "      <td>9979490</td>\n",
       "      <td>1.302997</td>\n",
       "    </tr>\n",
       "    <tr>\n",
       "      <th>145</th>\n",
       "      <td>145</td>\n",
       "      <td>Москва</td>\n",
       "      <td>10597984</td>\n",
       "      <td>42.931506</td>\n",
       "    </tr>\n",
       "    <tr>\n",
       "      <th>6279</th>\n",
       "      <td>6279</td>\n",
       "      <td>Санкт-Петербург</td>\n",
       "      <td>10597984</td>\n",
       "      <td>9.041320</td>\n",
       "    </tr>\n",
       "    <tr>\n",
       "      <th>150</th>\n",
       "      <td>150</td>\n",
       "      <td>Москва</td>\n",
       "      <td>10815097</td>\n",
       "      <td>9.086655</td>\n",
       "    </tr>\n",
       "    <tr>\n",
       "      <th>6283</th>\n",
       "      <td>6283</td>\n",
       "      <td>Санкт-Петербург</td>\n",
       "      <td>10815097</td>\n",
       "      <td>0.323291</td>\n",
       "    </tr>\n",
       "    <tr>\n",
       "      <th>187</th>\n",
       "      <td>187</td>\n",
       "      <td>Москва</td>\n",
       "      <td>13626259</td>\n",
       "      <td>21.104167</td>\n",
       "    </tr>\n",
       "    <tr>\n",
       "      <th>6300</th>\n",
       "      <td>6300</td>\n",
       "      <td>Санкт-Петербург</td>\n",
       "      <td>13626259</td>\n",
       "      <td>1.648434</td>\n",
       "    </tr>\n",
       "  </tbody>\n",
       "</table>\n",
       "</div>"
      ],
      "text/plain": [
       "      Unnamed: 0             city      puid      hours\n",
       "35            35           Москва   2637041  10.317371\n",
       "6247        6247  Санкт-Петербург   2637041   3.883926\n",
       "134          134           Москва   9979490  32.415573\n",
       "6274        6274  Санкт-Петербург   9979490   1.302997\n",
       "145          145           Москва  10597984  42.931506\n",
       "6279        6279  Санкт-Петербург  10597984   9.041320\n",
       "150          150           Москва  10815097   9.086655\n",
       "6283        6283  Санкт-Петербург  10815097   0.323291\n",
       "187          187           Москва  13626259  21.104167\n",
       "6300        6300  Санкт-Петербург  13626259   1.648434"
      ]
     },
     "metadata": {},
     "output_type": "display_data"
    },
    {
     "name": "stdout",
     "output_type": "stream",
     "text": [
      "Number of duplicates in column 'puid': 488\n"
     ]
    }
   ],
   "source": [
    " duplicates = df[df.duplicated(subset=['puid'], keep=False)].sort_values(by='puid')\n",
    "display(duplicates.head(10))\n",
    "print(f\"Number of duplicates in column 'puid': {duplicates.shape[0]}\")"
   ]
  },
  {
   "cell_type": "markdown",
   "id": "95220ea8",
   "metadata": {},
   "source": [
    "Thus, the data contains 488 rows with duplicate users, predominantly belonging to both groups - Moscow and St. Petersburg.\n",
    "To ensure data independence, we will remove these users from both groups, as keeping them in either group would be incorrect from the perspective of sample independence."
   ]
  },
  {
   "cell_type": "code",
   "execution_count": 53,
   "id": "419c04f7",
   "metadata": {},
   "outputs": [
    {
     "name": "stdout",
     "output_type": "stream",
     "text": [
      "Number of rows before deletion: 8784\n",
      "Number of rows after deletion: 8296\n"
     ]
    }
   ],
   "source": [
    "df_original = df \n",
    "print(f\"Number of rows before deletion: {df_original.shape[0]}\")\n",
    "df = df.drop_duplicates(subset=['puid'], keep=False)\n",
    "print(f\"Number of rows after deletion: {df.shape[0]}\")"
   ]
  },
  {
   "cell_type": "code",
   "execution_count": 54,
   "id": "3905ba31",
   "metadata": {},
   "outputs": [
    {
     "data": {
      "text/plain": [
       "city\n",
       "Москва             5990\n",
       "Санкт-Петербург    2306\n",
       "Name: puid, dtype: int64"
      ]
     },
     "execution_count": 54,
     "metadata": {},
     "output_type": "execute_result"
    }
   ],
   "source": [
    "# сompare the sizes of the groups (users from different cities)\n",
    "group_sizes = df.groupby('city')['puid'].nunique().sort_values(ascending=False)\n",
    "\n",
    "group_sizes"
   ]
  },
  {
   "cell_type": "code",
   "execution_count": 57,
   "id": "ff8410b4",
   "metadata": {},
   "outputs": [
    {
     "data": {
      "image/png": "[encoded data removed]",
      "text/plain": [
       "<Figure size 720x432 with 1 Axes>"
      ]
     },
     "metadata": {
      "needs_background": "light"
     },
     "output_type": "display_data"
    }
   ],
   "source": [
    "# Visualization of group sizes\n",
    "plt.figure(figsize=(10, 6))\n",
    "sns.barplot(x=group_sizes.index, y=group_sizes.values)\n",
    "plt.title('Number of unique users by city')\n",
    "plt.xlabel('City')\n",
    "plt.ylabel('Number of users')\n",
    "plt.show()"
   ]
  },
  {
   "cell_type": "markdown",
   "id": "b2a8bb5b",
   "metadata": {},
   "source": [
    "The group of users from Moscow has 2.5 times more users than the group of users from St. Petersburg."
   ]
  },
  {
   "cell_type": "code",
   "execution_count": 58,
   "id": "498123bf",
   "metadata": {},
   "outputs": [
    {
     "data": {
      "text/html": [
       "<div>\n",
       "<style scoped>\n",
       "    .dataframe tbody tr th:only-of-type {\n",
       "        vertical-align: middle;\n",
       "    }\n",
       "\n",
       "    .dataframe tbody tr th {\n",
       "        vertical-align: top;\n",
       "    }\n",
       "\n",
       "    .dataframe thead th {\n",
       "        text-align: right;\n",
       "    }\n",
       "</style>\n",
       "<table border=\"1\" class=\"dataframe\">\n",
       "  <thead>\n",
       "    <tr style=\"text-align: right;\">\n",
       "      <th></th>\n",
       "      <th>count</th>\n",
       "      <th>mean</th>\n",
       "      <th>std</th>\n",
       "      <th>min</th>\n",
       "      <th>25%</th>\n",
       "      <th>50%</th>\n",
       "      <th>75%</th>\n",
       "      <th>max</th>\n",
       "    </tr>\n",
       "    <tr>\n",
       "      <th>city</th>\n",
       "      <th></th>\n",
       "      <th></th>\n",
       "      <th></th>\n",
       "      <th></th>\n",
       "      <th></th>\n",
       "      <th></th>\n",
       "      <th></th>\n",
       "      <th></th>\n",
       "    </tr>\n",
       "  </thead>\n",
       "  <tbody>\n",
       "    <tr>\n",
       "      <th>Москва</th>\n",
       "      <td>5990.0</td>\n",
       "      <td>10.848192</td>\n",
       "      <td>36.925622</td>\n",
       "      <td>0.000022</td>\n",
       "      <td>0.057042</td>\n",
       "      <td>0.888232</td>\n",
       "      <td>5.933439</td>\n",
       "      <td>857.209373</td>\n",
       "    </tr>\n",
       "    <tr>\n",
       "      <th>Санкт-Петербург</th>\n",
       "      <td>2306.0</td>\n",
       "      <td>11.264433</td>\n",
       "      <td>39.831755</td>\n",
       "      <td>0.000025</td>\n",
       "      <td>0.060173</td>\n",
       "      <td>0.875355</td>\n",
       "      <td>6.138424</td>\n",
       "      <td>978.764775</td>\n",
       "    </tr>\n",
       "  </tbody>\n",
       "</table>\n",
       "</div>"
      ],
      "text/plain": [
       "                  count       mean        std       min       25%       50%  \\\n",
       "city                                                                          \n",
       "Москва           5990.0  10.848192  36.925622  0.000022  0.057042  0.888232   \n",
       "Санкт-Петербург  2306.0  11.264433  39.831755  0.000025  0.060173  0.875355   \n",
       "\n",
       "                      75%         max  \n",
       "city                                   \n",
       "Москва           5.933439  857.209373  \n",
       "Санкт-Петербург  6.138424  978.764775  "
      ]
     },
     "execution_count": 58,
     "metadata": {},
     "output_type": "execute_result"
    }
   ],
   "source": [
    "# Statistics of listening hours by group\n",
    "group_stats = df.groupby('city')['hours'].describe()\n",
    "\n",
    "group_stats"
   ]
  },
  {
   "cell_type": "markdown",
   "id": "792c104d",
   "metadata": {},
   "source": [
    "Statistics by group show quite similar data:\n",
    "- The average listening hours are 11 - (10.8 hours for users from Moscow and 11.3 for users from St. Petersburg);\n",
    "- The standard deviation is also quite close - 36.9 for Moscow and 39.8 for St. Petersburg."
   ]
  },
  {
   "cell_type": "code",
   "execution_count": 59,
   "id": "a5174ec7",
   "metadata": {},
   "outputs": [
    {
     "data": {
      "image/png": "[encoded data removed]",
      "text/plain": [
       "<Figure size 864x504 with 1 Axes>"
      ]
     },
     "metadata": {
      "needs_background": "light"
     },
     "output_type": "display_data"
    }
   ],
   "source": [
    "# Distribution of listening hours\n",
    "plt.figure(figsize=(12, 7))\n",
    "sns.boxplot(x='city', y='hours', data=df)\n",
    "plt.title('Distribution of listening hours by city')\n",
    "plt.xlabel('City')\n",
    "plt.ylabel('Listening hours')\n",
    "plt.show()"
   ]
  },
  {
   "cell_type": "markdown",
   "id": "f7b3f6ce",
   "metadata": {},
   "source": [
    "Strong outliers are observed on the plot; let's display only the main part of the data."
   ]
  },
  {
   "cell_type": "code",
   "execution_count": 60,
   "id": "212c2bd4",
   "metadata": {},
   "outputs": [
    {
     "data": {
      "image/png": "[encoded data removed]",
      "text/plain": [
       "<Figure size 864x504 with 1 Axes>"
      ]
     },
     "metadata": {
      "needs_background": "light"
     },
     "output_type": "display_data"
    }
   ],
   "source": [
    "plt.figure(figsize=(12, 7))\n",
    "sns.boxplot(x='city', y='hours', data=df)\n",
    "plt.title('Distribution of listening hours by city')\n",
    "plt.xlabel('City')\n",
    "plt.ylabel('Listening hours')\n",
    "plt.ylim(0, 20)\n",
    "plt.show()\n"
   ]
  },
  {
   "cell_type": "markdown",
   "id": "21e2d36a",
   "metadata": {},
   "source": [
    "---\n",
    "\n",
    "**CONCLUSION:**\n",
    "\n",
    "The difference in the number of participants in the groups is quite noticeable and could impact the study, as Student's T-test requires homogeneity of variances between groups. For this reason, an assessment of the equality of variances in the groups will be conducted next.\n",
    "\n",
    "A large standard deviation and the presence of significant outliers can skew the mean value for the entire group, making it difficult to detect statistically significant differences, even if they exist for most users.\n",
    "\n",
    "It would be possible to exclude outliers from the analysis, but in this case, it seems that this is not the best strategy, as we are investigating user loyalty, and each obtained value, including those significantly deviating from the mean, may indicate important behavioral differences within the groups."
   ]
  },
  {
   "cell_type": "markdown",
   "id": "9cdeefd2",
   "metadata": {},
   "source": [
    "---\n",
    "\n",
    "## 2. Hypothesis Testing in Python\n",
    "\n",
    "The hypothesis is as follows: users from St. Petersburg spend, on average, more time reading and listening to books in the application than users from Moscow. Try to statistically prove this using a one-sided hypothesis test with two samples:\n",
    "\n",
    "- Null Hypothesis H₀: The average user activity in hours in the two groups (Moscow and St. Petersburg) does not differ.\n",
    "\n",
    "- Alternative Hypothesis H₁: The average user activity in St. Petersburg is greater, and this difference is statistically significant."
   ]
  },
  {
   "cell_type": "code",
   "execution_count": 61,
   "id": "5f0552e4",
   "metadata": {},
   "outputs": [
    {
     "data": {
      "text/plain": [
       "0"
      ]
     },
     "execution_count": 61,
     "metadata": {},
     "output_type": "execute_result"
    }
   ],
   "source": [
    "# Let's assess the independence of the groups\n",
    "A = df[df['city'] == 'Москва']['puid']\n",
    "B = df[df['city'] == 'Санкт-Петербург']['puid']\n",
    "intersection = list(set(A) & set(B))\n",
    "len(intersection)"
   ]
  },
  {
   "cell_type": "code",
   "execution_count": 63,
   "id": "14cec842",
   "metadata": {},
   "outputs": [
    {
     "name": "stdout",
     "output_type": "stream",
     "text": [
      "\n",
      "Variance of activity (in hours) by city:\n",
      "city\n",
      "Москва             1363.501557\n",
      "Санкт-Петербург    1586.568674\n",
      "Name: hours, dtype: float64\n"
     ]
    }
   ],
   "source": [
    "# Сalculate the variance by groups\n",
    "variance_by_city = df.groupby('city')['hours'].var()\n",
    "\n",
    "print(\"\\nVariance of activity (in hours) by city:\")\n",
    "print(variance_by_city)"
   ]
  },
  {
   "cell_type": "code",
   "execution_count": 64,
   "id": "3db9a16a",
   "metadata": {},
   "outputs": [
    {
     "name": "stdout",
     "output_type": "stream",
     "text": [
      "p-value of F-test = 0.65\n",
      "The null hypothesis is confirmed! Variances in groups A and B are equal.\n",
      "Student's t-test should be used.\n"
     ]
    }
   ],
   "source": [
    "# Check for equality of sample variances\n",
    "\n",
    "# Target metric\n",
    "metric_a = df[df.city=='Москва']['hours'] ## sample of the target metric for group A\n",
    "metric_b = df[df.city=='Санкт-Петербург']['hours'] ## sample of the target metric for group B\n",
    "\n",
    "# Choose standard significance level\n",
    "alpha = 0.05 \n",
    "\n",
    "# Perform Fisher's F-test to determine equality of variances\n",
    "stat_f_test, p_value_stat_f_test = f_oneway(metric_a, metric_b)\n",
    "if p_value_stat_f_test > alpha:\n",
    "    print(f'p-value of F-test = {round(p_value_stat_f_test, 2)}')\n",
    "    print('The null hypothesis is confirmed! Variances in groups A and B are equal.')\n",
    "    print('Student\\'s t-test should be used.')\n",
    "else:\n",
    "    print(f'p-value of Welch\\'s test = {round(p_value_stat_f_test, 2)}')\n",
    "    print('The null hypothesis is not confirmed! Mean variances in groups A and B are not equal.')\n",
    "    print('Welch\\'s test should be used.')"
   ]
  },
  {
   "cell_type": "code",
   "execution_count": 65,
   "id": "0dd3c3d8",
   "metadata": {},
   "outputs": [
    {
     "name": "stdout",
     "output_type": "stream",
     "text": [
      "p-value of Student's t-test = 0.33\n",
      "The null hypothesis is confirmed! The sample means in groups A and B are equal.\n",
      "Interpretation: The average user activity in hours in the two groups (Moscow and St. Petersburg) does not differ.\n"
     ]
    }
   ],
   "source": [
    "# As per the task conditions:\n",
    "# Null Hypothesis H0: μSPb ≤ μMoscow\n",
    "# Alternative Hypothesis H1: μSPb > μMoscow\n",
    "\n",
    "# Let's perform a T-test to estimate the difference in sample means\n",
    "stat_ttest, p_value_ttest = ttest_ind(\n",
    "    metric_a, \n",
    "    metric_b, \n",
    "    alternative='less' \n",
    ")\n",
    "if p_value_ttest > alpha:\n",
    "    print(f'p-value of Student\\'s t-test = {round(p_value_ttest, 2)}')\n",
    "    print('The null hypothesis is confirmed! The sample means in groups A and B are equal.')\n",
    "    print('Interpretation: The average user activity in hours in the two groups (Moscow and St. Petersburg) does not differ.')\n",
    "else:\n",
    "    print(f'p-value of Student\\'s t-test = {round(p_value_ttest, 2)}')\n",
    "    print('The null hypothesis is not confirmed! The sample means in groups A and B are not equal, and group B has a larger mean.')\n",
    "    print('Interpretation: The average user activity in St. Petersburg is greater, and this difference is statistically significant.')"
   ]
  },
  {
   "cell_type": "markdown",
   "id": "b4d4b722",
   "metadata": {},
   "source": [
    "---\n",
    "\n",
    "## 3. Analytical Report\n",
    "\n",
    "For the analysis, Student's t-test was chosen as it's optimal for the task conditions: two samples that meet the required criteria:\n",
    "* **Normality of the sample mean** – due to a sufficient amount of data.\n",
    "* **Independence of observations** – ensured by excluding overlapping users.\n",
    "* **Equality of sample variances** – confirmed by Fisher's F-test.\n",
    "\n",
    "A significance level of 5% was adopted for hypothesis testing, which is a standard value for this type of test.\n",
    "\n",
    "The obtained **p-value was 0.33**. This indicator suggests that we don't have enough evidence to claim that the average user activity in hours in the two groups (Moscow and St. Petersburg) differs statistically significantly.\n",
    "\n",
    "This result can be explained by the following:\n",
    "* **There truly is no difference between the groups.** In this case, users from St. Petersburg spend, on average, the same amount of time reading and listening to books in the app as users from Moscow. Therefore, if there's no difference in activity between cities, then some other factor influences LTV.\n",
    "* **There is a difference between the groups, but we couldn't detect it due to insufficient test power (Type II error).**"
   ]
  }
 ],
 "metadata": {
  "kernelspec": {
   "display_name": "Python 3 (ipykernel)",
   "language": "python",
   "name": "python3"
  },
  "language_info": {
   "codemirror_mode": {
    "name": "ipython",
    "version": 3
   },
   "file_extension": ".py",
   "mimetype": "text/x-python",
   "name": "python",
   "nbconvert_exporter": "python",
   "pygments_lexer": "ipython3",
   "version": "3.9.7"
  }
 },
 "nbformat": 4,
 "nbformat_minor": 5
}
